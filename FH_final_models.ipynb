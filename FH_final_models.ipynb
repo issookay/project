{
 "cells": [
  {
   "cell_type": "markdown",
   "id": "bea7dc68",
   "metadata": {},
   "source": [
    "# Importing Pandas, numpy"
   ]
  },
  {
   "cell_type": "code",
   "execution_count": 1,
   "id": "d52de9b3",
   "metadata": {},
   "outputs": [],
   "source": [
    "import os\n",
    "import pandas as pd\n",
    "import numpy as np\n",
    "\n",
    "import warnings\n",
    "warnings.filterwarnings('ignore')"
   ]
  },
  {
   "cell_type": "markdown",
   "id": "38879719",
   "metadata": {},
   "source": [
    "# Reading, Sorting and Merging Data"
   ]
  },
  {
   "cell_type": "code",
   "execution_count": 2,
   "id": "f7779eba",
   "metadata": {},
   "outputs": [],
   "source": [
    "train=pd.read_excel(\"Quickfreightdata.xlsx\",na_values=(\"?\",'#'))"
   ]
  },
  {
   "cell_type": "markdown",
   "id": "37d7c604",
   "metadata": {},
   "source": [
    "# Understand the Data - - Exploratory Data Analysis (EDA)"
   ]
  },
  {
   "cell_type": "code",
   "execution_count": 3,
   "id": "39b9dcfa",
   "metadata": {},
   "outputs": [
    {
     "data": {
      "text/html": [
       "<div>\n",
       "<style scoped>\n",
       "    .dataframe tbody tr th:only-of-type {\n",
       "        vertical-align: middle;\n",
       "    }\n",
       "\n",
       "    .dataframe tbody tr th {\n",
       "        vertical-align: top;\n",
       "    }\n",
       "\n",
       "    .dataframe thead th {\n",
       "        text-align: right;\n",
       "    }\n",
       "</style>\n",
       "<table border=\"1\" class=\"dataframe\">\n",
       "  <thead>\n",
       "    <tr style=\"text-align: right;\">\n",
       "      <th></th>\n",
       "      <th>ORDER_NBR</th>\n",
       "      <th>EQUIPMENT_TYPE</th>\n",
       "      <th>CUSTOMER_MILES</th>\n",
       "      <th>WEIGHT</th>\n",
       "      <th>ORDER_COST</th>\n",
       "      <th>FIRST_PICK_ZIP</th>\n",
       "      <th>FIRST_PICK_EARLY_APPT</th>\n",
       "      <th>FIRST_PICK_LATE_APPT</th>\n",
       "      <th>LAST_DELIVERY_ZIP</th>\n",
       "      <th>LAST_DELIVERY_EARLY_APPT</th>\n",
       "      <th>LAST_DELIVERY_LATE_APPT</th>\n",
       "      <th>IS_HAZARDOUS</th>\n",
       "      <th>CREATED_DATE</th>\n",
       "    </tr>\n",
       "  </thead>\n",
       "  <tbody>\n",
       "    <tr>\n",
       "      <th>0</th>\n",
       "      <td>535361133</td>\n",
       "      <td>53 FLATBED</td>\n",
       "      <td>802</td>\n",
       "      <td>42000</td>\n",
       "      <td>0.00</td>\n",
       "      <td>21224</td>\n",
       "      <td>2015-07-13 07:30:00</td>\n",
       "      <td>2015-07-13 15:00:00</td>\n",
       "      <td>62707</td>\n",
       "      <td>2015-07-14 08:00:00</td>\n",
       "      <td>2015-07-14 16:00:00</td>\n",
       "      <td>N</td>\n",
       "      <td>2015-07-01 10:22:00</td>\n",
       "    </tr>\n",
       "    <tr>\n",
       "      <th>1</th>\n",
       "      <td>1499443993</td>\n",
       "      <td>V</td>\n",
       "      <td>0</td>\n",
       "      <td>40500</td>\n",
       "      <td>875.00</td>\n",
       "      <td>L1W 3H9</td>\n",
       "      <td>2015-07-06 14:00:00</td>\n",
       "      <td>2015-07-06 14:00:00</td>\n",
       "      <td>13619</td>\n",
       "      <td>2015-07-07 07:00:00</td>\n",
       "      <td>2015-07-07 16:00:00</td>\n",
       "      <td>N</td>\n",
       "      <td>2015-07-02 10:37:00</td>\n",
       "    </tr>\n",
       "    <tr>\n",
       "      <th>2</th>\n",
       "      <td>1058279607</td>\n",
       "      <td>NaN</td>\n",
       "      <td>774</td>\n",
       "      <td>0</td>\n",
       "      <td>88.14</td>\n",
       "      <td>46037</td>\n",
       "      <td>2015-07-01 08:00:00</td>\n",
       "      <td>2015-07-02 17:00:00</td>\n",
       "      <td>73107</td>\n",
       "      <td>2015-07-07 08:00:00</td>\n",
       "      <td>2015-07-07 17:00:00</td>\n",
       "      <td>N</td>\n",
       "      <td>2015-07-01 15:05:00</td>\n",
       "    </tr>\n",
       "    <tr>\n",
       "      <th>3</th>\n",
       "      <td>2093496262</td>\n",
       "      <td>V</td>\n",
       "      <td>0</td>\n",
       "      <td>40500</td>\n",
       "      <td>875.00</td>\n",
       "      <td>L1W 3H9</td>\n",
       "      <td>2015-07-07 14:00:00</td>\n",
       "      <td>2015-07-07 14:00:00</td>\n",
       "      <td>13619</td>\n",
       "      <td>2015-07-08 07:00:00</td>\n",
       "      <td>2015-07-08 16:00:00</td>\n",
       "      <td>N</td>\n",
       "      <td>2015-07-02 10:38:00</td>\n",
       "    </tr>\n",
       "    <tr>\n",
       "      <th>4</th>\n",
       "      <td>2373724838</td>\n",
       "      <td>V</td>\n",
       "      <td>0</td>\n",
       "      <td>40500</td>\n",
       "      <td>875.00</td>\n",
       "      <td>L1W 3H9</td>\n",
       "      <td>2015-07-08 14:00:00</td>\n",
       "      <td>2015-07-08 14:00:00</td>\n",
       "      <td>13619</td>\n",
       "      <td>2015-07-09 07:00:00</td>\n",
       "      <td>2015-07-09 16:00:00</td>\n",
       "      <td>N</td>\n",
       "      <td>2015-07-02 11:16:00</td>\n",
       "    </tr>\n",
       "  </tbody>\n",
       "</table>\n",
       "</div>"
      ],
      "text/plain": [
       "    ORDER_NBR EQUIPMENT_TYPE  CUSTOMER_MILES  WEIGHT  ORDER_COST  \\\n",
       "0   535361133     53 FLATBED             802   42000        0.00   \n",
       "1  1499443993              V               0   40500      875.00   \n",
       "2  1058279607            NaN             774       0       88.14   \n",
       "3  2093496262              V               0   40500      875.00   \n",
       "4  2373724838              V               0   40500      875.00   \n",
       "\n",
       "  FIRST_PICK_ZIP FIRST_PICK_EARLY_APPT FIRST_PICK_LATE_APPT LAST_DELIVERY_ZIP  \\\n",
       "0          21224   2015-07-13 07:30:00  2015-07-13 15:00:00             62707   \n",
       "1        L1W 3H9   2015-07-06 14:00:00  2015-07-06 14:00:00             13619   \n",
       "2          46037   2015-07-01 08:00:00  2015-07-02 17:00:00             73107   \n",
       "3        L1W 3H9   2015-07-07 14:00:00  2015-07-07 14:00:00             13619   \n",
       "4        L1W 3H9   2015-07-08 14:00:00  2015-07-08 14:00:00             13619   \n",
       "\n",
       "  LAST_DELIVERY_EARLY_APPT LAST_DELIVERY_LATE_APPT IS_HAZARDOUS  \\\n",
       "0      2015-07-14 08:00:00     2015-07-14 16:00:00            N   \n",
       "1      2015-07-07 07:00:00     2015-07-07 16:00:00            N   \n",
       "2      2015-07-07 08:00:00     2015-07-07 17:00:00            N   \n",
       "3      2015-07-08 07:00:00     2015-07-08 16:00:00            N   \n",
       "4      2015-07-09 07:00:00     2015-07-09 16:00:00            N   \n",
       "\n",
       "         CREATED_DATE  \n",
       "0 2015-07-01 10:22:00  \n",
       "1 2015-07-02 10:37:00  \n",
       "2 2015-07-01 15:05:00  \n",
       "3 2015-07-02 10:38:00  \n",
       "4 2015-07-02 11:16:00  "
      ]
     },
     "execution_count": 3,
     "metadata": {},
     "output_type": "execute_result"
    }
   ],
   "source": [
    "train.head()"
   ]
  },
  {
   "cell_type": "code",
   "execution_count": 4,
   "id": "7158ed92",
   "metadata": {
    "scrolled": true
   },
   "outputs": [
    {
     "data": {
      "text/html": [
       "<div>\n",
       "<style scoped>\n",
       "    .dataframe tbody tr th:only-of-type {\n",
       "        vertical-align: middle;\n",
       "    }\n",
       "\n",
       "    .dataframe tbody tr th {\n",
       "        vertical-align: top;\n",
       "    }\n",
       "\n",
       "    .dataframe thead th {\n",
       "        text-align: right;\n",
       "    }\n",
       "</style>\n",
       "<table border=\"1\" class=\"dataframe\">\n",
       "  <thead>\n",
       "    <tr style=\"text-align: right;\">\n",
       "      <th></th>\n",
       "      <th>ORDER_NBR</th>\n",
       "      <th>EQUIPMENT_TYPE</th>\n",
       "      <th>CUSTOMER_MILES</th>\n",
       "      <th>WEIGHT</th>\n",
       "      <th>ORDER_COST</th>\n",
       "      <th>FIRST_PICK_ZIP</th>\n",
       "      <th>FIRST_PICK_EARLY_APPT</th>\n",
       "      <th>FIRST_PICK_LATE_APPT</th>\n",
       "      <th>LAST_DELIVERY_ZIP</th>\n",
       "      <th>LAST_DELIVERY_EARLY_APPT</th>\n",
       "      <th>LAST_DELIVERY_LATE_APPT</th>\n",
       "      <th>IS_HAZARDOUS</th>\n",
       "      <th>CREATED_DATE</th>\n",
       "    </tr>\n",
       "  </thead>\n",
       "  <tbody>\n",
       "    <tr>\n",
       "      <th>18734</th>\n",
       "      <td>675767319</td>\n",
       "      <td>R</td>\n",
       "      <td>707</td>\n",
       "      <td>26405</td>\n",
       "      <td>1500.0</td>\n",
       "      <td>84104</td>\n",
       "      <td>2015-09-01 11:00:00</td>\n",
       "      <td>2015-09-01 18:00:00</td>\n",
       "      <td>85353</td>\n",
       "      <td>2015-09-03 08:30:00</td>\n",
       "      <td>2015-09-03 08:30:00</td>\n",
       "      <td>N</td>\n",
       "      <td>2015-08-28 17:19:00</td>\n",
       "    </tr>\n",
       "    <tr>\n",
       "      <th>18735</th>\n",
       "      <td>2597037520</td>\n",
       "      <td>R</td>\n",
       "      <td>1230</td>\n",
       "      <td>42500</td>\n",
       "      <td>0.0</td>\n",
       "      <td>84088</td>\n",
       "      <td>2015-08-31 20:00:00</td>\n",
       "      <td>2015-08-31 20:00:00</td>\n",
       "      <td>76102</td>\n",
       "      <td>2015-09-03 13:00:00</td>\n",
       "      <td>2015-09-03 13:00:00</td>\n",
       "      <td>N</td>\n",
       "      <td>2015-08-28 17:22:00</td>\n",
       "    </tr>\n",
       "    <tr>\n",
       "      <th>18736</th>\n",
       "      <td>1272142564</td>\n",
       "      <td>R</td>\n",
       "      <td>1924</td>\n",
       "      <td>42000</td>\n",
       "      <td>2500.0</td>\n",
       "      <td>78521</td>\n",
       "      <td>2015-09-04 09:00:00</td>\n",
       "      <td>2015-09-04 17:00:00</td>\n",
       "      <td>95380</td>\n",
       "      <td>2015-09-07 07:00:00</td>\n",
       "      <td>2015-09-07 07:00:00</td>\n",
       "      <td>N</td>\n",
       "      <td>2015-09-03 08:31:00</td>\n",
       "    </tr>\n",
       "    <tr>\n",
       "      <th>18737</th>\n",
       "      <td>830532830</td>\n",
       "      <td>R</td>\n",
       "      <td>2185</td>\n",
       "      <td>40000</td>\n",
       "      <td>5300.0</td>\n",
       "      <td>4915</td>\n",
       "      <td>2015-09-03 14:30:00</td>\n",
       "      <td>2015-09-03 14:30:00</td>\n",
       "      <td>29209</td>\n",
       "      <td>2015-09-07 06:00:00</td>\n",
       "      <td>2015-09-07 06:00:00</td>\n",
       "      <td>N</td>\n",
       "      <td>2015-09-03 13:08:00</td>\n",
       "    </tr>\n",
       "    <tr>\n",
       "      <th>18738</th>\n",
       "      <td>1119673825</td>\n",
       "      <td>R</td>\n",
       "      <td>2185</td>\n",
       "      <td>40000</td>\n",
       "      <td>5300.0</td>\n",
       "      <td>4915</td>\n",
       "      <td>2015-09-03 14:30:00</td>\n",
       "      <td>2015-09-03 14:30:00</td>\n",
       "      <td>30336</td>\n",
       "      <td>2015-09-07 13:00:00</td>\n",
       "      <td>2015-09-07 13:00:00</td>\n",
       "      <td>N</td>\n",
       "      <td>2015-09-03 13:08:00</td>\n",
       "    </tr>\n",
       "  </tbody>\n",
       "</table>\n",
       "</div>"
      ],
      "text/plain": [
       "        ORDER_NBR EQUIPMENT_TYPE  CUSTOMER_MILES  WEIGHT  ORDER_COST  \\\n",
       "18734   675767319              R             707   26405      1500.0   \n",
       "18735  2597037520              R            1230   42500         0.0   \n",
       "18736  1272142564              R            1924   42000      2500.0   \n",
       "18737   830532830              R            2185   40000      5300.0   \n",
       "18738  1119673825              R            2185   40000      5300.0   \n",
       "\n",
       "      FIRST_PICK_ZIP FIRST_PICK_EARLY_APPT FIRST_PICK_LATE_APPT  \\\n",
       "18734          84104   2015-09-01 11:00:00  2015-09-01 18:00:00   \n",
       "18735          84088   2015-08-31 20:00:00  2015-08-31 20:00:00   \n",
       "18736          78521   2015-09-04 09:00:00  2015-09-04 17:00:00   \n",
       "18737           4915   2015-09-03 14:30:00  2015-09-03 14:30:00   \n",
       "18738           4915   2015-09-03 14:30:00  2015-09-03 14:30:00   \n",
       "\n",
       "      LAST_DELIVERY_ZIP LAST_DELIVERY_EARLY_APPT LAST_DELIVERY_LATE_APPT  \\\n",
       "18734             85353      2015-09-03 08:30:00     2015-09-03 08:30:00   \n",
       "18735             76102      2015-09-03 13:00:00     2015-09-03 13:00:00   \n",
       "18736             95380      2015-09-07 07:00:00     2015-09-07 07:00:00   \n",
       "18737             29209      2015-09-07 06:00:00     2015-09-07 06:00:00   \n",
       "18738             30336      2015-09-07 13:00:00     2015-09-07 13:00:00   \n",
       "\n",
       "      IS_HAZARDOUS        CREATED_DATE  \n",
       "18734            N 2015-08-28 17:19:00  \n",
       "18735            N 2015-08-28 17:22:00  \n",
       "18736            N 2015-09-03 08:31:00  \n",
       "18737            N 2015-09-03 13:08:00  \n",
       "18738            N 2015-09-03 13:08:00  "
      ]
     },
     "execution_count": 4,
     "metadata": {},
     "output_type": "execute_result"
    }
   ],
   "source": [
    "train.tail()"
   ]
  },
  {
   "cell_type": "code",
   "execution_count": 5,
   "id": "bc04d0f6",
   "metadata": {},
   "outputs": [
    {
     "data": {
      "text/plain": [
       "(18739, 13)"
      ]
     },
     "execution_count": 5,
     "metadata": {},
     "output_type": "execute_result"
    }
   ],
   "source": [
    "train.shape"
   ]
  },
  {
   "cell_type": "code",
   "execution_count": 6,
   "id": "7364a938",
   "metadata": {},
   "outputs": [
    {
     "data": {
      "text/plain": [
       "ORDER_NBR                      0\n",
       "EQUIPMENT_TYPE              1011\n",
       "CUSTOMER_MILES                 0\n",
       "WEIGHT                         0\n",
       "ORDER_COST                     6\n",
       "FIRST_PICK_ZIP                 0\n",
       "FIRST_PICK_EARLY_APPT        260\n",
       "FIRST_PICK_LATE_APPT         304\n",
       "LAST_DELIVERY_ZIP              0\n",
       "LAST_DELIVERY_EARLY_APPT     329\n",
       "LAST_DELIVERY_LATE_APPT      386\n",
       "IS_HAZARDOUS                   0\n",
       "CREATED_DATE                   0\n",
       "dtype: int64"
      ]
     },
     "execution_count": 6,
     "metadata": {},
     "output_type": "execute_result"
    }
   ],
   "source": [
    "train.isna().sum()"
   ]
  },
  {
   "cell_type": "code",
   "execution_count": 7,
   "id": "d56e98b9",
   "metadata": {},
   "outputs": [
    {
     "data": {
      "text/plain": [
       "ORDER_NBR                            int64\n",
       "EQUIPMENT_TYPE                      object\n",
       "CUSTOMER_MILES                       int64\n",
       "WEIGHT                               int64\n",
       "ORDER_COST                         float64\n",
       "FIRST_PICK_ZIP                      object\n",
       "FIRST_PICK_EARLY_APPT       datetime64[ns]\n",
       "FIRST_PICK_LATE_APPT        datetime64[ns]\n",
       "LAST_DELIVERY_ZIP                   object\n",
       "LAST_DELIVERY_EARLY_APPT    datetime64[ns]\n",
       "LAST_DELIVERY_LATE_APPT     datetime64[ns]\n",
       "IS_HAZARDOUS                        object\n",
       "CREATED_DATE                datetime64[ns]\n",
       "dtype: object"
      ]
     },
     "execution_count": 7,
     "metadata": {},
     "output_type": "execute_result"
    }
   ],
   "source": [
    "train.dtypes"
   ]
  },
  {
   "cell_type": "code",
   "execution_count": 8,
   "id": "cf4ee016",
   "metadata": {},
   "outputs": [
    {
     "data": {
      "text/plain": [
       "ORDER_NBR                   18739\n",
       "EQUIPMENT_TYPE                 28\n",
       "CUSTOMER_MILES               1411\n",
       "WEIGHT                       2678\n",
       "ORDER_COST                    758\n",
       "FIRST_PICK_ZIP                842\n",
       "FIRST_PICK_EARLY_APPT        3090\n",
       "FIRST_PICK_LATE_APPT         3155\n",
       "LAST_DELIVERY_ZIP            1843\n",
       "LAST_DELIVERY_EARLY_APPT     3699\n",
       "LAST_DELIVERY_LATE_APPT      3874\n",
       "IS_HAZARDOUS                    2\n",
       "CREATED_DATE                12181\n",
       "dtype: int64"
      ]
     },
     "execution_count": 8,
     "metadata": {},
     "output_type": "execute_result"
    }
   ],
   "source": [
    "train.nunique()"
   ]
  },
  {
   "cell_type": "code",
   "execution_count": 9,
   "id": "049a303b",
   "metadata": {
    "scrolled": true
   },
   "outputs": [
    {
     "data": {
      "text/plain": [
       "0.00       3527\n",
       "600.00     1011\n",
       "700.00      674\n",
       "500.00      634\n",
       "1000.00     595\n",
       "           ... \n",
       "122.32        1\n",
       "473.87        1\n",
       "223.81        1\n",
       "77.48         1\n",
       "2280.00       1\n",
       "Name: ORDER_COST, Length: 758, dtype: int64"
      ]
     },
     "execution_count": 9,
     "metadata": {},
     "output_type": "execute_result"
    }
   ],
   "source": [
    "train.ORDER_COST.value_counts()"
   ]
  },
  {
   "cell_type": "code",
   "execution_count": 10,
   "id": "fc6c6534",
   "metadata": {},
   "outputs": [
    {
     "data": {
      "text/plain": [
       "N    18521\n",
       "Y      218\n",
       "Name: IS_HAZARDOUS, dtype: int64"
      ]
     },
     "execution_count": 10,
     "metadata": {},
     "output_type": "execute_result"
    }
   ],
   "source": [
    "train.IS_HAZARDOUS.value_counts()"
   ]
  },
  {
   "cell_type": "code",
   "execution_count": 11,
   "id": "bdc842a8",
   "metadata": {},
   "outputs": [],
   "source": [
    "train['Days']=abs((train['LAST_DELIVERY_LATE_APPT']-train['FIRST_PICK_EARLY_APPT']).dt.days)"
   ]
  },
  {
   "cell_type": "code",
   "execution_count": 12,
   "id": "dc2ec3b6",
   "metadata": {},
   "outputs": [
    {
     "data": {
      "text/html": [
       "<div>\n",
       "<style scoped>\n",
       "    .dataframe tbody tr th:only-of-type {\n",
       "        vertical-align: middle;\n",
       "    }\n",
       "\n",
       "    .dataframe tbody tr th {\n",
       "        vertical-align: top;\n",
       "    }\n",
       "\n",
       "    .dataframe thead th {\n",
       "        text-align: right;\n",
       "    }\n",
       "</style>\n",
       "<table border=\"1\" class=\"dataframe\">\n",
       "  <thead>\n",
       "    <tr style=\"text-align: right;\">\n",
       "      <th></th>\n",
       "      <th>ORDER_NBR</th>\n",
       "      <th>EQUIPMENT_TYPE</th>\n",
       "      <th>CUSTOMER_MILES</th>\n",
       "      <th>WEIGHT</th>\n",
       "      <th>ORDER_COST</th>\n",
       "      <th>FIRST_PICK_ZIP</th>\n",
       "      <th>FIRST_PICK_EARLY_APPT</th>\n",
       "      <th>FIRST_PICK_LATE_APPT</th>\n",
       "      <th>LAST_DELIVERY_ZIP</th>\n",
       "      <th>LAST_DELIVERY_EARLY_APPT</th>\n",
       "      <th>LAST_DELIVERY_LATE_APPT</th>\n",
       "      <th>IS_HAZARDOUS</th>\n",
       "      <th>CREATED_DATE</th>\n",
       "      <th>Days</th>\n",
       "    </tr>\n",
       "  </thead>\n",
       "  <tbody>\n",
       "    <tr>\n",
       "      <th>0</th>\n",
       "      <td>535361133</td>\n",
       "      <td>53 FLATBED</td>\n",
       "      <td>802</td>\n",
       "      <td>42000</td>\n",
       "      <td>0.00</td>\n",
       "      <td>21224</td>\n",
       "      <td>2015-07-13 07:30:00</td>\n",
       "      <td>2015-07-13 15:00:00</td>\n",
       "      <td>62707</td>\n",
       "      <td>2015-07-14 08:00:00</td>\n",
       "      <td>2015-07-14 16:00:00</td>\n",
       "      <td>N</td>\n",
       "      <td>2015-07-01 10:22:00</td>\n",
       "      <td>1.0</td>\n",
       "    </tr>\n",
       "    <tr>\n",
       "      <th>1</th>\n",
       "      <td>1499443993</td>\n",
       "      <td>V</td>\n",
       "      <td>0</td>\n",
       "      <td>40500</td>\n",
       "      <td>875.00</td>\n",
       "      <td>L1W 3H9</td>\n",
       "      <td>2015-07-06 14:00:00</td>\n",
       "      <td>2015-07-06 14:00:00</td>\n",
       "      <td>13619</td>\n",
       "      <td>2015-07-07 07:00:00</td>\n",
       "      <td>2015-07-07 16:00:00</td>\n",
       "      <td>N</td>\n",
       "      <td>2015-07-02 10:37:00</td>\n",
       "      <td>1.0</td>\n",
       "    </tr>\n",
       "    <tr>\n",
       "      <th>2</th>\n",
       "      <td>1058279607</td>\n",
       "      <td>NaN</td>\n",
       "      <td>774</td>\n",
       "      <td>0</td>\n",
       "      <td>88.14</td>\n",
       "      <td>46037</td>\n",
       "      <td>2015-07-01 08:00:00</td>\n",
       "      <td>2015-07-02 17:00:00</td>\n",
       "      <td>73107</td>\n",
       "      <td>2015-07-07 08:00:00</td>\n",
       "      <td>2015-07-07 17:00:00</td>\n",
       "      <td>N</td>\n",
       "      <td>2015-07-01 15:05:00</td>\n",
       "      <td>6.0</td>\n",
       "    </tr>\n",
       "    <tr>\n",
       "      <th>3</th>\n",
       "      <td>2093496262</td>\n",
       "      <td>V</td>\n",
       "      <td>0</td>\n",
       "      <td>40500</td>\n",
       "      <td>875.00</td>\n",
       "      <td>L1W 3H9</td>\n",
       "      <td>2015-07-07 14:00:00</td>\n",
       "      <td>2015-07-07 14:00:00</td>\n",
       "      <td>13619</td>\n",
       "      <td>2015-07-08 07:00:00</td>\n",
       "      <td>2015-07-08 16:00:00</td>\n",
       "      <td>N</td>\n",
       "      <td>2015-07-02 10:38:00</td>\n",
       "      <td>1.0</td>\n",
       "    </tr>\n",
       "    <tr>\n",
       "      <th>4</th>\n",
       "      <td>2373724838</td>\n",
       "      <td>V</td>\n",
       "      <td>0</td>\n",
       "      <td>40500</td>\n",
       "      <td>875.00</td>\n",
       "      <td>L1W 3H9</td>\n",
       "      <td>2015-07-08 14:00:00</td>\n",
       "      <td>2015-07-08 14:00:00</td>\n",
       "      <td>13619</td>\n",
       "      <td>2015-07-09 07:00:00</td>\n",
       "      <td>2015-07-09 16:00:00</td>\n",
       "      <td>N</td>\n",
       "      <td>2015-07-02 11:16:00</td>\n",
       "      <td>1.0</td>\n",
       "    </tr>\n",
       "  </tbody>\n",
       "</table>\n",
       "</div>"
      ],
      "text/plain": [
       "    ORDER_NBR EQUIPMENT_TYPE  CUSTOMER_MILES  WEIGHT  ORDER_COST  \\\n",
       "0   535361133     53 FLATBED             802   42000        0.00   \n",
       "1  1499443993              V               0   40500      875.00   \n",
       "2  1058279607            NaN             774       0       88.14   \n",
       "3  2093496262              V               0   40500      875.00   \n",
       "4  2373724838              V               0   40500      875.00   \n",
       "\n",
       "  FIRST_PICK_ZIP FIRST_PICK_EARLY_APPT FIRST_PICK_LATE_APPT LAST_DELIVERY_ZIP  \\\n",
       "0          21224   2015-07-13 07:30:00  2015-07-13 15:00:00             62707   \n",
       "1        L1W 3H9   2015-07-06 14:00:00  2015-07-06 14:00:00             13619   \n",
       "2          46037   2015-07-01 08:00:00  2015-07-02 17:00:00             73107   \n",
       "3        L1W 3H9   2015-07-07 14:00:00  2015-07-07 14:00:00             13619   \n",
       "4        L1W 3H9   2015-07-08 14:00:00  2015-07-08 14:00:00             13619   \n",
       "\n",
       "  LAST_DELIVERY_EARLY_APPT LAST_DELIVERY_LATE_APPT IS_HAZARDOUS  \\\n",
       "0      2015-07-14 08:00:00     2015-07-14 16:00:00            N   \n",
       "1      2015-07-07 07:00:00     2015-07-07 16:00:00            N   \n",
       "2      2015-07-07 08:00:00     2015-07-07 17:00:00            N   \n",
       "3      2015-07-08 07:00:00     2015-07-08 16:00:00            N   \n",
       "4      2015-07-09 07:00:00     2015-07-09 16:00:00            N   \n",
       "\n",
       "         CREATED_DATE  Days  \n",
       "0 2015-07-01 10:22:00   1.0  \n",
       "1 2015-07-02 10:37:00   1.0  \n",
       "2 2015-07-01 15:05:00   6.0  \n",
       "3 2015-07-02 10:38:00   1.0  \n",
       "4 2015-07-02 11:16:00   1.0  "
      ]
     },
     "execution_count": 12,
     "metadata": {},
     "output_type": "execute_result"
    }
   ],
   "source": [
    "train.head()"
   ]
  },
  {
   "cell_type": "code",
   "execution_count": 13,
   "id": "116d3232",
   "metadata": {},
   "outputs": [
    {
     "data": {
      "text/plain": [
       "(18739, 14)"
      ]
     },
     "execution_count": 13,
     "metadata": {},
     "output_type": "execute_result"
    }
   ],
   "source": [
    "train.shape"
   ]
  },
  {
   "cell_type": "code",
   "execution_count": 14,
   "id": "5d4f6aca",
   "metadata": {},
   "outputs": [
    {
     "data": {
      "text/html": [
       "<div>\n",
       "<style scoped>\n",
       "    .dataframe tbody tr th:only-of-type {\n",
       "        vertical-align: middle;\n",
       "    }\n",
       "\n",
       "    .dataframe tbody tr th {\n",
       "        vertical-align: top;\n",
       "    }\n",
       "\n",
       "    .dataframe thead th {\n",
       "        text-align: right;\n",
       "    }\n",
       "</style>\n",
       "<table border=\"1\" class=\"dataframe\">\n",
       "  <thead>\n",
       "    <tr style=\"text-align: right;\">\n",
       "      <th></th>\n",
       "      <th>ORDER_NBR</th>\n",
       "      <th>EQUIPMENT_TYPE</th>\n",
       "      <th>CUSTOMER_MILES</th>\n",
       "      <th>WEIGHT</th>\n",
       "      <th>ORDER_COST</th>\n",
       "      <th>FIRST_PICK_ZIP</th>\n",
       "      <th>FIRST_PICK_EARLY_APPT</th>\n",
       "      <th>FIRST_PICK_LATE_APPT</th>\n",
       "      <th>LAST_DELIVERY_ZIP</th>\n",
       "      <th>LAST_DELIVERY_EARLY_APPT</th>\n",
       "      <th>LAST_DELIVERY_LATE_APPT</th>\n",
       "      <th>IS_HAZARDOUS</th>\n",
       "      <th>CREATED_DATE</th>\n",
       "      <th>Days</th>\n",
       "    </tr>\n",
       "  </thead>\n",
       "  <tbody>\n",
       "    <tr>\n",
       "      <th>0</th>\n",
       "      <td>535361133</td>\n",
       "      <td>53 FLATBED</td>\n",
       "      <td>802</td>\n",
       "      <td>42000</td>\n",
       "      <td>0.00</td>\n",
       "      <td>21224</td>\n",
       "      <td>2015-07-13 07:30:00</td>\n",
       "      <td>2015-07-13 15:00:00</td>\n",
       "      <td>62707</td>\n",
       "      <td>2015-07-14 08:00:00</td>\n",
       "      <td>2015-07-14 16:00:00</td>\n",
       "      <td>N</td>\n",
       "      <td>2015-07-01 10:22:00</td>\n",
       "      <td>1.0</td>\n",
       "    </tr>\n",
       "    <tr>\n",
       "      <th>1</th>\n",
       "      <td>1499443993</td>\n",
       "      <td>V</td>\n",
       "      <td>0</td>\n",
       "      <td>40500</td>\n",
       "      <td>875.00</td>\n",
       "      <td>L1W 3H9</td>\n",
       "      <td>2015-07-06 14:00:00</td>\n",
       "      <td>2015-07-06 14:00:00</td>\n",
       "      <td>13619</td>\n",
       "      <td>2015-07-07 07:00:00</td>\n",
       "      <td>2015-07-07 16:00:00</td>\n",
       "      <td>N</td>\n",
       "      <td>2015-07-02 10:37:00</td>\n",
       "      <td>1.0</td>\n",
       "    </tr>\n",
       "    <tr>\n",
       "      <th>2</th>\n",
       "      <td>1058279607</td>\n",
       "      <td>NaN</td>\n",
       "      <td>774</td>\n",
       "      <td>0</td>\n",
       "      <td>88.14</td>\n",
       "      <td>46037</td>\n",
       "      <td>2015-07-01 08:00:00</td>\n",
       "      <td>2015-07-02 17:00:00</td>\n",
       "      <td>73107</td>\n",
       "      <td>2015-07-07 08:00:00</td>\n",
       "      <td>2015-07-07 17:00:00</td>\n",
       "      <td>N</td>\n",
       "      <td>2015-07-01 15:05:00</td>\n",
       "      <td>6.0</td>\n",
       "    </tr>\n",
       "    <tr>\n",
       "      <th>3</th>\n",
       "      <td>2093496262</td>\n",
       "      <td>V</td>\n",
       "      <td>0</td>\n",
       "      <td>40500</td>\n",
       "      <td>875.00</td>\n",
       "      <td>L1W 3H9</td>\n",
       "      <td>2015-07-07 14:00:00</td>\n",
       "      <td>2015-07-07 14:00:00</td>\n",
       "      <td>13619</td>\n",
       "      <td>2015-07-08 07:00:00</td>\n",
       "      <td>2015-07-08 16:00:00</td>\n",
       "      <td>N</td>\n",
       "      <td>2015-07-02 10:38:00</td>\n",
       "      <td>1.0</td>\n",
       "    </tr>\n",
       "    <tr>\n",
       "      <th>4</th>\n",
       "      <td>2373724838</td>\n",
       "      <td>V</td>\n",
       "      <td>0</td>\n",
       "      <td>40500</td>\n",
       "      <td>875.00</td>\n",
       "      <td>L1W 3H9</td>\n",
       "      <td>2015-07-08 14:00:00</td>\n",
       "      <td>2015-07-08 14:00:00</td>\n",
       "      <td>13619</td>\n",
       "      <td>2015-07-09 07:00:00</td>\n",
       "      <td>2015-07-09 16:00:00</td>\n",
       "      <td>N</td>\n",
       "      <td>2015-07-02 11:16:00</td>\n",
       "      <td>1.0</td>\n",
       "    </tr>\n",
       "  </tbody>\n",
       "</table>\n",
       "</div>"
      ],
      "text/plain": [
       "    ORDER_NBR EQUIPMENT_TYPE  CUSTOMER_MILES  WEIGHT  ORDER_COST  \\\n",
       "0   535361133     53 FLATBED             802   42000        0.00   \n",
       "1  1499443993              V               0   40500      875.00   \n",
       "2  1058279607            NaN             774       0       88.14   \n",
       "3  2093496262              V               0   40500      875.00   \n",
       "4  2373724838              V               0   40500      875.00   \n",
       "\n",
       "  FIRST_PICK_ZIP FIRST_PICK_EARLY_APPT FIRST_PICK_LATE_APPT LAST_DELIVERY_ZIP  \\\n",
       "0          21224   2015-07-13 07:30:00  2015-07-13 15:00:00             62707   \n",
       "1        L1W 3H9   2015-07-06 14:00:00  2015-07-06 14:00:00             13619   \n",
       "2          46037   2015-07-01 08:00:00  2015-07-02 17:00:00             73107   \n",
       "3        L1W 3H9   2015-07-07 14:00:00  2015-07-07 14:00:00             13619   \n",
       "4        L1W 3H9   2015-07-08 14:00:00  2015-07-08 14:00:00             13619   \n",
       "\n",
       "  LAST_DELIVERY_EARLY_APPT LAST_DELIVERY_LATE_APPT IS_HAZARDOUS  \\\n",
       "0      2015-07-14 08:00:00     2015-07-14 16:00:00            N   \n",
       "1      2015-07-07 07:00:00     2015-07-07 16:00:00            N   \n",
       "2      2015-07-07 08:00:00     2015-07-07 17:00:00            N   \n",
       "3      2015-07-08 07:00:00     2015-07-08 16:00:00            N   \n",
       "4      2015-07-09 07:00:00     2015-07-09 16:00:00            N   \n",
       "\n",
       "         CREATED_DATE  Days  \n",
       "0 2015-07-01 10:22:00   1.0  \n",
       "1 2015-07-02 10:37:00   1.0  \n",
       "2 2015-07-01 15:05:00   6.0  \n",
       "3 2015-07-02 10:38:00   1.0  \n",
       "4 2015-07-02 11:16:00   1.0  "
      ]
     },
     "execution_count": 14,
     "metadata": {},
     "output_type": "execute_result"
    }
   ],
   "source": [
    "train.head()"
   ]
  },
  {
   "cell_type": "code",
   "execution_count": 15,
   "id": "c2dc348b",
   "metadata": {},
   "outputs": [],
   "source": [
    "train.drop(['ORDER_NBR','LAST_DELIVERY_EARLY_APPT','LAST_DELIVERY_LATE_APPT','FIRST_PICK_LATE_APPT','FIRST_PICK_EARLY_APPT'],axis=1,inplace=True)"
   ]
  },
  {
   "cell_type": "code",
   "execution_count": 16,
   "id": "67527418",
   "metadata": {},
   "outputs": [
    {
     "data": {
      "text/html": [
       "<div>\n",
       "<style scoped>\n",
       "    .dataframe tbody tr th:only-of-type {\n",
       "        vertical-align: middle;\n",
       "    }\n",
       "\n",
       "    .dataframe tbody tr th {\n",
       "        vertical-align: top;\n",
       "    }\n",
       "\n",
       "    .dataframe thead th {\n",
       "        text-align: right;\n",
       "    }\n",
       "</style>\n",
       "<table border=\"1\" class=\"dataframe\">\n",
       "  <thead>\n",
       "    <tr style=\"text-align: right;\">\n",
       "      <th></th>\n",
       "      <th>EQUIPMENT_TYPE</th>\n",
       "      <th>CUSTOMER_MILES</th>\n",
       "      <th>WEIGHT</th>\n",
       "      <th>ORDER_COST</th>\n",
       "      <th>FIRST_PICK_ZIP</th>\n",
       "      <th>LAST_DELIVERY_ZIP</th>\n",
       "      <th>IS_HAZARDOUS</th>\n",
       "      <th>CREATED_DATE</th>\n",
       "      <th>Days</th>\n",
       "    </tr>\n",
       "  </thead>\n",
       "  <tbody>\n",
       "    <tr>\n",
       "      <th>0</th>\n",
       "      <td>53 FLATBED</td>\n",
       "      <td>802</td>\n",
       "      <td>42000</td>\n",
       "      <td>0.00</td>\n",
       "      <td>21224</td>\n",
       "      <td>62707</td>\n",
       "      <td>N</td>\n",
       "      <td>2015-07-01 10:22:00</td>\n",
       "      <td>1.0</td>\n",
       "    </tr>\n",
       "    <tr>\n",
       "      <th>1</th>\n",
       "      <td>V</td>\n",
       "      <td>0</td>\n",
       "      <td>40500</td>\n",
       "      <td>875.00</td>\n",
       "      <td>L1W 3H9</td>\n",
       "      <td>13619</td>\n",
       "      <td>N</td>\n",
       "      <td>2015-07-02 10:37:00</td>\n",
       "      <td>1.0</td>\n",
       "    </tr>\n",
       "    <tr>\n",
       "      <th>2</th>\n",
       "      <td>NaN</td>\n",
       "      <td>774</td>\n",
       "      <td>0</td>\n",
       "      <td>88.14</td>\n",
       "      <td>46037</td>\n",
       "      <td>73107</td>\n",
       "      <td>N</td>\n",
       "      <td>2015-07-01 15:05:00</td>\n",
       "      <td>6.0</td>\n",
       "    </tr>\n",
       "    <tr>\n",
       "      <th>3</th>\n",
       "      <td>V</td>\n",
       "      <td>0</td>\n",
       "      <td>40500</td>\n",
       "      <td>875.00</td>\n",
       "      <td>L1W 3H9</td>\n",
       "      <td>13619</td>\n",
       "      <td>N</td>\n",
       "      <td>2015-07-02 10:38:00</td>\n",
       "      <td>1.0</td>\n",
       "    </tr>\n",
       "    <tr>\n",
       "      <th>4</th>\n",
       "      <td>V</td>\n",
       "      <td>0</td>\n",
       "      <td>40500</td>\n",
       "      <td>875.00</td>\n",
       "      <td>L1W 3H9</td>\n",
       "      <td>13619</td>\n",
       "      <td>N</td>\n",
       "      <td>2015-07-02 11:16:00</td>\n",
       "      <td>1.0</td>\n",
       "    </tr>\n",
       "  </tbody>\n",
       "</table>\n",
       "</div>"
      ],
      "text/plain": [
       "  EQUIPMENT_TYPE  CUSTOMER_MILES  WEIGHT  ORDER_COST FIRST_PICK_ZIP  \\\n",
       "0     53 FLATBED             802   42000        0.00          21224   \n",
       "1              V               0   40500      875.00        L1W 3H9   \n",
       "2            NaN             774       0       88.14          46037   \n",
       "3              V               0   40500      875.00        L1W 3H9   \n",
       "4              V               0   40500      875.00        L1W 3H9   \n",
       "\n",
       "  LAST_DELIVERY_ZIP IS_HAZARDOUS        CREATED_DATE  Days  \n",
       "0             62707            N 2015-07-01 10:22:00   1.0  \n",
       "1             13619            N 2015-07-02 10:37:00   1.0  \n",
       "2             73107            N 2015-07-01 15:05:00   6.0  \n",
       "3             13619            N 2015-07-02 10:38:00   1.0  \n",
       "4             13619            N 2015-07-02 11:16:00   1.0  "
      ]
     },
     "execution_count": 16,
     "metadata": {},
     "output_type": "execute_result"
    }
   ],
   "source": [
    "train.head()"
   ]
  },
  {
   "cell_type": "code",
   "execution_count": 17,
   "id": "2014df87",
   "metadata": {
    "scrolled": true
   },
   "outputs": [
    {
     "data": {
      "text/plain": [
       "EQUIPMENT_TYPE               object\n",
       "CUSTOMER_MILES                int64\n",
       "WEIGHT                        int64\n",
       "ORDER_COST                  float64\n",
       "FIRST_PICK_ZIP               object\n",
       "LAST_DELIVERY_ZIP            object\n",
       "IS_HAZARDOUS                 object\n",
       "CREATED_DATE         datetime64[ns]\n",
       "Days                        float64\n",
       "dtype: object"
      ]
     },
     "execution_count": 17,
     "metadata": {},
     "output_type": "execute_result"
    }
   ],
   "source": [
    "train.dtypes"
   ]
  },
  {
   "cell_type": "code",
   "execution_count": 18,
   "id": "f9fd0c18",
   "metadata": {},
   "outputs": [],
   "source": [
    "num_cols=['CUSTOMER_MILES','WEIGHT',\"Days\"]\n",
    "cat_cols=['IS_HAZARDOUS','EQUIPMENT_TYPE','FIRST_PICK_ZIP','LAST_DELIVERY_ZIP']"
   ]
  },
  {
   "cell_type": "code",
   "execution_count": 19,
   "id": "f11cfa5c",
   "metadata": {},
   "outputs": [],
   "source": [
    "train[cat_cols]=train[cat_cols].astype('category')"
   ]
  },
  {
   "cell_type": "code",
   "execution_count": 20,
   "id": "47ded2cc",
   "metadata": {},
   "outputs": [
    {
     "data": {
      "text/plain": [
       "EQUIPMENT_TYPE             category\n",
       "CUSTOMER_MILES                int64\n",
       "WEIGHT                        int64\n",
       "ORDER_COST                  float64\n",
       "FIRST_PICK_ZIP             category\n",
       "LAST_DELIVERY_ZIP          category\n",
       "IS_HAZARDOUS               category\n",
       "CREATED_DATE         datetime64[ns]\n",
       "Days                        float64\n",
       "dtype: object"
      ]
     },
     "execution_count": 20,
     "metadata": {},
     "output_type": "execute_result"
    }
   ],
   "source": [
    "train.dtypes"
   ]
  },
  {
   "cell_type": "code",
   "execution_count": 21,
   "id": "e14662da",
   "metadata": {},
   "outputs": [],
   "source": [
    "train.dropna(subset=['ORDER_COST'], inplace=True)"
   ]
  },
  {
   "cell_type": "code",
   "execution_count": 22,
   "id": "ecdf013b",
   "metadata": {},
   "outputs": [
    {
     "data": {
      "text/plain": [
       "EQUIPMENT_TYPE       1006\n",
       "CUSTOMER_MILES          0\n",
       "WEIGHT                  0\n",
       "ORDER_COST              0\n",
       "FIRST_PICK_ZIP          0\n",
       "LAST_DELIVERY_ZIP       0\n",
       "IS_HAZARDOUS            0\n",
       "CREATED_DATE            0\n",
       "Days                  387\n",
       "dtype: int64"
      ]
     },
     "execution_count": 22,
     "metadata": {},
     "output_type": "execute_result"
    }
   ],
   "source": [
    "train.isna().sum()"
   ]
  },
  {
   "cell_type": "code",
   "execution_count": 23,
   "id": "0a7f7f22",
   "metadata": {},
   "outputs": [],
   "source": [
    "import matplotlib.pyplot as plt"
   ]
  },
  {
   "cell_type": "code",
   "execution_count": 24,
   "id": "56afaf5d",
   "metadata": {},
   "outputs": [
    {
     "data": {
      "image/png": "[encoded data removed]",
      "text/plain": [
       "<Figure size 1080x1080 with 25 Axes>"
      ]
     },
     "metadata": {
      "needs_background": "light"
     },
     "output_type": "display_data"
    }
   ],
   "source": [
    "train.plot(kind='box', subplots =True , sharex=False, sharey=False, layout=(5,5), figsize=(15,15))\n",
    "plt.show()"
   ]
  },
  {
   "cell_type": "code",
   "execution_count": 25,
   "id": "18604716",
   "metadata": {},
   "outputs": [],
   "source": [
    "Q1 = train[num_cols].quantile(0.25)\n",
    "Q3 = train[num_cols].quantile(0.75)\n",
    "IQR = Q3 - Q1"
   ]
  },
  {
   "cell_type": "code",
   "execution_count": 26,
   "id": "4dac7377",
   "metadata": {},
   "outputs": [],
   "source": [
    "upp_bou = (Q3 + 1.5*IQR)\n",
    "low_bou = (Q1-1.5*IQR)"
   ]
  },
  {
   "cell_type": "code",
   "execution_count": 27,
   "id": "0ac6d79d",
   "metadata": {},
   "outputs": [
    {
     "data": {
      "text/plain": [
       "CUSTOMER_MILES     1409.0\n",
       "WEIGHT            93000.0\n",
       "Days                  2.5\n",
       "dtype: float64"
      ]
     },
     "execution_count": 27,
     "metadata": {},
     "output_type": "execute_result"
    }
   ],
   "source": [
    "upp_bou"
   ]
  },
  {
   "cell_type": "code",
   "execution_count": 28,
   "id": "3e8d1f7c",
   "metadata": {},
   "outputs": [
    {
     "data": {
      "text/plain": [
       "CUSTOMER_MILES     -439.0\n",
       "WEIGHT           -43000.0\n",
       "Days                 -1.5\n",
       "dtype: float64"
      ]
     },
     "execution_count": 28,
     "metadata": {},
     "output_type": "execute_result"
    }
   ],
   "source": [
    "low_bou"
   ]
  },
  {
   "cell_type": "code",
   "execution_count": 29,
   "id": "e5a8bd39",
   "metadata": {},
   "outputs": [
    {
     "name": "stdout",
     "output_type": "stream",
     "text": [
      "1304\n",
      "0\n",
      "1\n",
      "0\n",
      "2457\n",
      "0\n"
     ]
    }
   ],
   "source": [
    "for i in num_cols:\n",
    "    m=0\n",
    "    k=0\n",
    "    for j in train[i]:\n",
    "        if j>upp_bou[i]:\n",
    "            m=m+1\n",
    "        elif j<low_bou[i]:\n",
    "            k=k+1\n",
    "    print(m)\n",
    "    print(k)"
   ]
  },
  {
   "cell_type": "code",
   "execution_count": 30,
   "id": "921e4a67",
   "metadata": {},
   "outputs": [],
   "source": [
    "from sklearn.model_selection import train_test_split"
   ]
  },
  {
   "cell_type": "code",
   "execution_count": 31,
   "id": "08be7ff2",
   "metadata": {},
   "outputs": [],
   "source": [
    "y=train.drop(['EQUIPMENT_TYPE','CUSTOMER_MILES','WEIGHT','FIRST_PICK_ZIP','LAST_DELIVERY_ZIP','IS_HAZARDOUS','CREATED_DATE','Days'],axis=1)"
   ]
  },
  {
   "cell_type": "code",
   "execution_count": 32,
   "id": "d27fda0e",
   "metadata": {},
   "outputs": [],
   "source": [
    "X_train, X_test, y_train, y_test = train_test_split(train.drop(['ORDER_COST'],axis=1),train['ORDER_COST'] , test_size = 0.3, random_state = 123)"
   ]
  },
  {
   "cell_type": "code",
   "execution_count": 33,
   "id": "c9301658",
   "metadata": {},
   "outputs": [
    {
     "data": {
      "text/plain": [
       "EQUIPMENT_TYPE             category\n",
       "CUSTOMER_MILES                int64\n",
       "WEIGHT                        int64\n",
       "FIRST_PICK_ZIP             category\n",
       "LAST_DELIVERY_ZIP          category\n",
       "IS_HAZARDOUS               category\n",
       "CREATED_DATE         datetime64[ns]\n",
       "Days                        float64\n",
       "dtype: object"
      ]
     },
     "execution_count": 33,
     "metadata": {},
     "output_type": "execute_result"
    }
   ],
   "source": [
    "X_train.dtypes"
   ]
  },
  {
   "cell_type": "code",
   "execution_count": 34,
   "id": "5cd27a0c",
   "metadata": {},
   "outputs": [
    {
     "data": {
      "text/html": [
       "<div>\n",
       "<style scoped>\n",
       "    .dataframe tbody tr th:only-of-type {\n",
       "        vertical-align: middle;\n",
       "    }\n",
       "\n",
       "    .dataframe tbody tr th {\n",
       "        vertical-align: top;\n",
       "    }\n",
       "\n",
       "    .dataframe thead th {\n",
       "        text-align: right;\n",
       "    }\n",
       "</style>\n",
       "<table border=\"1\" class=\"dataframe\">\n",
       "  <thead>\n",
       "    <tr style=\"text-align: right;\">\n",
       "      <th></th>\n",
       "      <th>ORDER_COST</th>\n",
       "    </tr>\n",
       "  </thead>\n",
       "  <tbody>\n",
       "    <tr>\n",
       "      <th>0</th>\n",
       "      <td>0.00</td>\n",
       "    </tr>\n",
       "    <tr>\n",
       "      <th>1</th>\n",
       "      <td>875.00</td>\n",
       "    </tr>\n",
       "    <tr>\n",
       "      <th>2</th>\n",
       "      <td>88.14</td>\n",
       "    </tr>\n",
       "    <tr>\n",
       "      <th>3</th>\n",
       "      <td>875.00</td>\n",
       "    </tr>\n",
       "    <tr>\n",
       "      <th>4</th>\n",
       "      <td>875.00</td>\n",
       "    </tr>\n",
       "  </tbody>\n",
       "</table>\n",
       "</div>"
      ],
      "text/plain": [
       "   ORDER_COST\n",
       "0        0.00\n",
       "1      875.00\n",
       "2       88.14\n",
       "3      875.00\n",
       "4      875.00"
      ]
     },
     "execution_count": 34,
     "metadata": {},
     "output_type": "execute_result"
    }
   ],
   "source": [
    "y.head()"
   ]
  },
  {
   "cell_type": "code",
   "execution_count": 35,
   "id": "de4a596f",
   "metadata": {},
   "outputs": [],
   "source": [
    "from sklearn.impute import SimpleImputer"
   ]
  },
  {
   "cell_type": "code",
   "execution_count": 36,
   "id": "93b575c2",
   "metadata": {},
   "outputs": [],
   "source": [
    "df_num_train = X_train[num_cols]\n",
    "df_num_test = X_test[num_cols]"
   ]
  },
  {
   "cell_type": "code",
   "execution_count": 37,
   "id": "df1b742c",
   "metadata": {},
   "outputs": [
    {
     "data": {
      "text/html": [
       "<style>#sk-container-id-1 {color: black;background-color: white;}#sk-container-id-1 pre{padding: 0;}#sk-container-id-1 div.sk-toggleable {background-color: white;}#sk-container-id-1 label.sk-toggleable__label {cursor: pointer;display: block;width: 100%;margin-bottom: 0;padding: 0.3em;box-sizing: border-box;text-align: center;}#sk-container-id-1 label.sk-toggleable__label-arrow:before {content: \"▸\";float: left;margin-right: 0.25em;color: #696969;}#sk-container-id-1 label.sk-toggleable__label-arrow:hover:before {color: black;}#sk-container-id-1 div.sk-estimator:hover label.sk-toggleable__label-arrow:before {color: black;}#sk-container-id-1 div.sk-toggleable__content {max-height: 0;max-width: 0;overflow: hidden;text-align: left;background-color: #f0f8ff;}#sk-container-id-1 div.sk-toggleable__content pre {margin: 0.2em;color: black;border-radius: 0.25em;background-color: #f0f8ff;}#sk-container-id-1 input.sk-toggleable__control:checked~div.sk-toggleable__content {max-height: 200px;max-width: 100%;overflow: auto;}#sk-container-id-1 input.sk-toggleable__control:checked~label.sk-toggleable__label-arrow:before {content: \"▾\";}#sk-container-id-1 div.sk-estimator input.sk-toggleable__control:checked~label.sk-toggleable__label {background-color: #d4ebff;}#sk-container-id-1 div.sk-label input.sk-toggleable__control:checked~label.sk-toggleable__label {background-color: #d4ebff;}#sk-container-id-1 input.sk-hidden--visually {border: 0;clip: rect(1px 1px 1px 1px);clip: rect(1px, 1px, 1px, 1px);height: 1px;margin: -1px;overflow: hidden;padding: 0;position: absolute;width: 1px;}#sk-container-id-1 div.sk-estimator {font-family: monospace;background-color: #f0f8ff;border: 1px dotted black;border-radius: 0.25em;box-sizing: border-box;margin-bottom: 0.5em;}#sk-container-id-1 div.sk-estimator:hover {background-color: #d4ebff;}#sk-container-id-1 div.sk-parallel-item::after {content: \"\";width: 100%;border-bottom: 1px solid gray;flex-grow: 1;}#sk-container-id-1 div.sk-label:hover label.sk-toggleable__label {background-color: #d4ebff;}#sk-container-id-1 div.sk-serial::before {content: \"\";position: absolute;border-left: 1px solid gray;box-sizing: border-box;top: 0;bottom: 0;left: 50%;z-index: 0;}#sk-container-id-1 div.sk-serial {display: flex;flex-direction: column;align-items: center;background-color: white;padding-right: 0.2em;padding-left: 0.2em;position: relative;}#sk-container-id-1 div.sk-item {position: relative;z-index: 1;}#sk-container-id-1 div.sk-parallel {display: flex;align-items: stretch;justify-content: center;background-color: white;position: relative;}#sk-container-id-1 div.sk-item::before, #sk-container-id-1 div.sk-parallel-item::before {content: \"\";position: absolute;border-left: 1px solid gray;box-sizing: border-box;top: 0;bottom: 0;left: 50%;z-index: -1;}#sk-container-id-1 div.sk-parallel-item {display: flex;flex-direction: column;z-index: 1;position: relative;background-color: white;}#sk-container-id-1 div.sk-parallel-item:first-child::after {align-self: flex-end;width: 50%;}#sk-container-id-1 div.sk-parallel-item:last-child::after {align-self: flex-start;width: 50%;}#sk-container-id-1 div.sk-parallel-item:only-child::after {width: 0;}#sk-container-id-1 div.sk-dashed-wrapped {border: 1px dashed gray;margin: 0 0.4em 0.5em 0.4em;box-sizing: border-box;padding-bottom: 0.4em;background-color: white;}#sk-container-id-1 div.sk-label label {font-family: monospace;font-weight: bold;display: inline-block;line-height: 1.2em;}#sk-container-id-1 div.sk-label-container {text-align: center;}#sk-container-id-1 div.sk-container {/* jupyter's `normalize.less` sets `[hidden] { display: none; }` but bootstrap.min.css set `[hidden] { display: none !important; }` so we also need the `!important` here to be able to override the default hidden behavior on the sphinx rendered scikit-learn.org. See: https://github.com/scikit-learn/scikit-learn/issues/21755 */display: inline-block !important;position: relative;}#sk-container-id-1 div.sk-text-repr-fallback {display: none;}</style><div id=\"sk-container-id-1\" class=\"sk-top-container\"><div class=\"sk-text-repr-fallback\"><pre>SimpleImputer()</pre><b>In a Jupyter environment, please rerun this cell to show the HTML representation or trust the notebook. <br />On GitHub, the HTML representation is unable to render, please try loading this page with nbviewer.org.</b></div><div class=\"sk-container\" hidden><div class=\"sk-item\"><div class=\"sk-estimator sk-toggleable\"><input class=\"sk-toggleable__control sk-hidden--visually\" id=\"sk-estimator-id-1\" type=\"checkbox\" checked><label for=\"sk-estimator-id-1\" class=\"sk-toggleable__label sk-toggleable__label-arrow\">SimpleImputer</label><div class=\"sk-toggleable__content\"><pre>SimpleImputer()</pre></div></div></div></div></div>"
      ],
      "text/plain": [
       "SimpleImputer()"
      ]
     },
     "execution_count": 37,
     "metadata": {},
     "output_type": "execute_result"
    }
   ],
   "source": [
    "num_imputer = SimpleImputer(strategy='mean')\n",
    "num_imputer.fit(df_num_train[num_cols])"
   ]
  },
  {
   "cell_type": "code",
   "execution_count": 38,
   "id": "89e91eda",
   "metadata": {},
   "outputs": [],
   "source": [
    "df_num_train = pd.DataFrame (num_imputer.transform(df_num_train), columns= num_cols)"
   ]
  },
  {
   "cell_type": "code",
   "execution_count": 39,
   "id": "cdfcae4b",
   "metadata": {},
   "outputs": [],
   "source": [
    "df_num_test =  pd.DataFrame(num_imputer.transform(df_num_test), columns=num_cols)"
   ]
  },
  {
   "cell_type": "code",
   "execution_count": null,
   "id": "f79c3b8b",
   "metadata": {},
   "outputs": [],
   "source": []
  },
  {
   "cell_type": "code",
   "execution_count": 40,
   "id": "91391494",
   "metadata": {},
   "outputs": [],
   "source": [
    "df_cat_train = X_train[cat_cols]\n",
    "df_cat_test = X_test[cat_cols]"
   ]
  },
  {
   "cell_type": "code",
   "execution_count": 41,
   "id": "89c8f78f",
   "metadata": {},
   "outputs": [
    {
     "data": {
      "text/html": [
       "<style>#sk-container-id-2 {color: black;background-color: white;}#sk-container-id-2 pre{padding: 0;}#sk-container-id-2 div.sk-toggleable {background-color: white;}#sk-container-id-2 label.sk-toggleable__label {cursor: pointer;display: block;width: 100%;margin-bottom: 0;padding: 0.3em;box-sizing: border-box;text-align: center;}#sk-container-id-2 label.sk-toggleable__label-arrow:before {content: \"▸\";float: left;margin-right: 0.25em;color: #696969;}#sk-container-id-2 label.sk-toggleable__label-arrow:hover:before {color: black;}#sk-container-id-2 div.sk-estimator:hover label.sk-toggleable__label-arrow:before {color: black;}#sk-container-id-2 div.sk-toggleable__content {max-height: 0;max-width: 0;overflow: hidden;text-align: left;background-color: #f0f8ff;}#sk-container-id-2 div.sk-toggleable__content pre {margin: 0.2em;color: black;border-radius: 0.25em;background-color: #f0f8ff;}#sk-container-id-2 input.sk-toggleable__control:checked~div.sk-toggleable__content {max-height: 200px;max-width: 100%;overflow: auto;}#sk-container-id-2 input.sk-toggleable__control:checked~label.sk-toggleable__label-arrow:before {content: \"▾\";}#sk-container-id-2 div.sk-estimator input.sk-toggleable__control:checked~label.sk-toggleable__label {background-color: #d4ebff;}#sk-container-id-2 div.sk-label input.sk-toggleable__control:checked~label.sk-toggleable__label {background-color: #d4ebff;}#sk-container-id-2 input.sk-hidden--visually {border: 0;clip: rect(1px 1px 1px 1px);clip: rect(1px, 1px, 1px, 1px);height: 1px;margin: -1px;overflow: hidden;padding: 0;position: absolute;width: 1px;}#sk-container-id-2 div.sk-estimator {font-family: monospace;background-color: #f0f8ff;border: 1px dotted black;border-radius: 0.25em;box-sizing: border-box;margin-bottom: 0.5em;}#sk-container-id-2 div.sk-estimator:hover {background-color: #d4ebff;}#sk-container-id-2 div.sk-parallel-item::after {content: \"\";width: 100%;border-bottom: 1px solid gray;flex-grow: 1;}#sk-container-id-2 div.sk-label:hover label.sk-toggleable__label {background-color: #d4ebff;}#sk-container-id-2 div.sk-serial::before {content: \"\";position: absolute;border-left: 1px solid gray;box-sizing: border-box;top: 0;bottom: 0;left: 50%;z-index: 0;}#sk-container-id-2 div.sk-serial {display: flex;flex-direction: column;align-items: center;background-color: white;padding-right: 0.2em;padding-left: 0.2em;position: relative;}#sk-container-id-2 div.sk-item {position: relative;z-index: 1;}#sk-container-id-2 div.sk-parallel {display: flex;align-items: stretch;justify-content: center;background-color: white;position: relative;}#sk-container-id-2 div.sk-item::before, #sk-container-id-2 div.sk-parallel-item::before {content: \"\";position: absolute;border-left: 1px solid gray;box-sizing: border-box;top: 0;bottom: 0;left: 50%;z-index: -1;}#sk-container-id-2 div.sk-parallel-item {display: flex;flex-direction: column;z-index: 1;position: relative;background-color: white;}#sk-container-id-2 div.sk-parallel-item:first-child::after {align-self: flex-end;width: 50%;}#sk-container-id-2 div.sk-parallel-item:last-child::after {align-self: flex-start;width: 50%;}#sk-container-id-2 div.sk-parallel-item:only-child::after {width: 0;}#sk-container-id-2 div.sk-dashed-wrapped {border: 1px dashed gray;margin: 0 0.4em 0.5em 0.4em;box-sizing: border-box;padding-bottom: 0.4em;background-color: white;}#sk-container-id-2 div.sk-label label {font-family: monospace;font-weight: bold;display: inline-block;line-height: 1.2em;}#sk-container-id-2 div.sk-label-container {text-align: center;}#sk-container-id-2 div.sk-container {/* jupyter's `normalize.less` sets `[hidden] { display: none; }` but bootstrap.min.css set `[hidden] { display: none !important; }` so we also need the `!important` here to be able to override the default hidden behavior on the sphinx rendered scikit-learn.org. See: https://github.com/scikit-learn/scikit-learn/issues/21755 */display: inline-block !important;position: relative;}#sk-container-id-2 div.sk-text-repr-fallback {display: none;}</style><div id=\"sk-container-id-2\" class=\"sk-top-container\"><div class=\"sk-text-repr-fallback\"><pre>SimpleImputer(strategy=&#x27;most_frequent&#x27;)</pre><b>In a Jupyter environment, please rerun this cell to show the HTML representation or trust the notebook. <br />On GitHub, the HTML representation is unable to render, please try loading this page with nbviewer.org.</b></div><div class=\"sk-container\" hidden><div class=\"sk-item\"><div class=\"sk-estimator sk-toggleable\"><input class=\"sk-toggleable__control sk-hidden--visually\" id=\"sk-estimator-id-2\" type=\"checkbox\" checked><label for=\"sk-estimator-id-2\" class=\"sk-toggleable__label sk-toggleable__label-arrow\">SimpleImputer</label><div class=\"sk-toggleable__content\"><pre>SimpleImputer(strategy=&#x27;most_frequent&#x27;)</pre></div></div></div></div></div>"
      ],
      "text/plain": [
       "SimpleImputer(strategy='most_frequent')"
      ]
     },
     "execution_count": 41,
     "metadata": {},
     "output_type": "execute_result"
    }
   ],
   "source": [
    "cat_imputer = SimpleImputer(strategy='most_frequent')\n",
    "cat_imputer.fit(df_cat_train)"
   ]
  },
  {
   "cell_type": "code",
   "execution_count": 42,
   "id": "df017359",
   "metadata": {},
   "outputs": [],
   "source": [
    "df_cat_train = pd.DataFrame(cat_imputer.transform(df_cat_train), columns=cat_cols)"
   ]
  },
  {
   "cell_type": "code",
   "execution_count": 43,
   "id": "1894f23d",
   "metadata": {},
   "outputs": [],
   "source": [
    "df_cat_test = pd.DataFrame(cat_imputer.transform(df_cat_test), columns=cat_cols)"
   ]
  },
  {
   "cell_type": "code",
   "execution_count": 44,
   "id": "5ad82ef1",
   "metadata": {},
   "outputs": [],
   "source": [
    "X_train = pd.concat([df_num_train, df_cat_train], axis = 1)\n",
    "\n",
    "\n",
    "X_test = pd.concat([df_num_test, df_cat_test], axis = 1)"
   ]
  },
  {
   "cell_type": "code",
   "execution_count": 45,
   "id": "c39a740f",
   "metadata": {
    "scrolled": true
   },
   "outputs": [
    {
     "data": {
      "text/plain": [
       "(13113, 7)"
      ]
     },
     "execution_count": 45,
     "metadata": {},
     "output_type": "execute_result"
    }
   ],
   "source": [
    "X_train.shape"
   ]
  },
  {
   "cell_type": "code",
   "execution_count": 46,
   "id": "2c4700ce",
   "metadata": {},
   "outputs": [
    {
     "data": {
      "text/plain": [
       "(5620, 7)"
      ]
     },
     "execution_count": 46,
     "metadata": {},
     "output_type": "execute_result"
    }
   ],
   "source": [
    "X_test.shape"
   ]
  },
  {
   "cell_type": "code",
   "execution_count": 47,
   "id": "ad79f340",
   "metadata": {
    "scrolled": true
   },
   "outputs": [
    {
     "data": {
      "text/html": [
       "<div>\n",
       "<style scoped>\n",
       "    .dataframe tbody tr th:only-of-type {\n",
       "        vertical-align: middle;\n",
       "    }\n",
       "\n",
       "    .dataframe tbody tr th {\n",
       "        vertical-align: top;\n",
       "    }\n",
       "\n",
       "    .dataframe thead th {\n",
       "        text-align: right;\n",
       "    }\n",
       "</style>\n",
       "<table border=\"1\" class=\"dataframe\">\n",
       "  <thead>\n",
       "    <tr style=\"text-align: right;\">\n",
       "      <th></th>\n",
       "      <th>CUSTOMER_MILES</th>\n",
       "      <th>WEIGHT</th>\n",
       "      <th>Days</th>\n",
       "      <th>IS_HAZARDOUS</th>\n",
       "      <th>EQUIPMENT_TYPE</th>\n",
       "      <th>FIRST_PICK_ZIP</th>\n",
       "      <th>LAST_DELIVERY_ZIP</th>\n",
       "    </tr>\n",
       "  </thead>\n",
       "  <tbody>\n",
       "    <tr>\n",
       "      <th>0</th>\n",
       "      <td>463.0</td>\n",
       "      <td>43902.0</td>\n",
       "      <td>1.0</td>\n",
       "      <td>N</td>\n",
       "      <td>VR</td>\n",
       "      <td>15650</td>\n",
       "      <td>06320-6411</td>\n",
       "    </tr>\n",
       "    <tr>\n",
       "      <th>1</th>\n",
       "      <td>158.0</td>\n",
       "      <td>43900.0</td>\n",
       "      <td>0.0</td>\n",
       "      <td>N</td>\n",
       "      <td>VR</td>\n",
       "      <td>54601</td>\n",
       "      <td>55413</td>\n",
       "    </tr>\n",
       "    <tr>\n",
       "      <th>2</th>\n",
       "      <td>323.0</td>\n",
       "      <td>8000.0</td>\n",
       "      <td>0.0</td>\n",
       "      <td>N</td>\n",
       "      <td>V</td>\n",
       "      <td>50010</td>\n",
       "      <td>53094</td>\n",
       "    </tr>\n",
       "    <tr>\n",
       "      <th>3</th>\n",
       "      <td>195.0</td>\n",
       "      <td>8000.0</td>\n",
       "      <td>0.0</td>\n",
       "      <td>N</td>\n",
       "      <td>V</td>\n",
       "      <td>50010</td>\n",
       "      <td>56003</td>\n",
       "    </tr>\n",
       "    <tr>\n",
       "      <th>4</th>\n",
       "      <td>118.0</td>\n",
       "      <td>20000.0</td>\n",
       "      <td>0.0</td>\n",
       "      <td>N</td>\n",
       "      <td>V</td>\n",
       "      <td>29016</td>\n",
       "      <td>29650</td>\n",
       "    </tr>\n",
       "  </tbody>\n",
       "</table>\n",
       "</div>"
      ],
      "text/plain": [
       "   CUSTOMER_MILES   WEIGHT  Days IS_HAZARDOUS EQUIPMENT_TYPE FIRST_PICK_ZIP  \\\n",
       "0           463.0  43902.0   1.0            N             VR          15650   \n",
       "1           158.0  43900.0   0.0            N             VR          54601   \n",
       "2           323.0   8000.0   0.0            N              V          50010   \n",
       "3           195.0   8000.0   0.0            N              V          50010   \n",
       "4           118.0  20000.0   0.0            N              V          29016   \n",
       "\n",
       "  LAST_DELIVERY_ZIP  \n",
       "0        06320-6411  \n",
       "1             55413  \n",
       "2             53094  \n",
       "3             56003  \n",
       "4             29650  "
      ]
     },
     "execution_count": 47,
     "metadata": {},
     "output_type": "execute_result"
    }
   ],
   "source": [
    "X_train.head()"
   ]
  },
  {
   "cell_type": "code",
   "execution_count": 48,
   "id": "9f44a374",
   "metadata": {},
   "outputs": [
    {
     "data": {
      "text/html": [
       "<div>\n",
       "<style scoped>\n",
       "    .dataframe tbody tr th:only-of-type {\n",
       "        vertical-align: middle;\n",
       "    }\n",
       "\n",
       "    .dataframe tbody tr th {\n",
       "        vertical-align: top;\n",
       "    }\n",
       "\n",
       "    .dataframe thead th {\n",
       "        text-align: right;\n",
       "    }\n",
       "</style>\n",
       "<table border=\"1\" class=\"dataframe\">\n",
       "  <thead>\n",
       "    <tr style=\"text-align: right;\">\n",
       "      <th></th>\n",
       "      <th>CUSTOMER_MILES</th>\n",
       "      <th>WEIGHT</th>\n",
       "      <th>Days</th>\n",
       "      <th>IS_HAZARDOUS</th>\n",
       "      <th>EQUIPMENT_TYPE</th>\n",
       "      <th>FIRST_PICK_ZIP</th>\n",
       "      <th>LAST_DELIVERY_ZIP</th>\n",
       "    </tr>\n",
       "  </thead>\n",
       "  <tbody>\n",
       "    <tr>\n",
       "      <th>0</th>\n",
       "      <td>296.0</td>\n",
       "      <td>11649.0</td>\n",
       "      <td>0.0</td>\n",
       "      <td>N</td>\n",
       "      <td>V</td>\n",
       "      <td>60421</td>\n",
       "      <td>45215</td>\n",
       "    </tr>\n",
       "    <tr>\n",
       "      <th>1</th>\n",
       "      <td>1335.0</td>\n",
       "      <td>40256.0</td>\n",
       "      <td>1.0</td>\n",
       "      <td>N</td>\n",
       "      <td>V</td>\n",
       "      <td>76155</td>\n",
       "      <td>21701</td>\n",
       "    </tr>\n",
       "    <tr>\n",
       "      <th>2</th>\n",
       "      <td>235.0</td>\n",
       "      <td>17884.0</td>\n",
       "      <td>0.0</td>\n",
       "      <td>N</td>\n",
       "      <td>V</td>\n",
       "      <td>62305</td>\n",
       "      <td>61832</td>\n",
       "    </tr>\n",
       "    <tr>\n",
       "      <th>3</th>\n",
       "      <td>0.0</td>\n",
       "      <td>42000.0</td>\n",
       "      <td>1.0</td>\n",
       "      <td>N</td>\n",
       "      <td>V</td>\n",
       "      <td>H9R 5W3</td>\n",
       "      <td>18106</td>\n",
       "    </tr>\n",
       "    <tr>\n",
       "      <th>4</th>\n",
       "      <td>852.0</td>\n",
       "      <td>12459.0</td>\n",
       "      <td>1.0</td>\n",
       "      <td>N</td>\n",
       "      <td>V</td>\n",
       "      <td>47805</td>\n",
       "      <td>14086</td>\n",
       "    </tr>\n",
       "  </tbody>\n",
       "</table>\n",
       "</div>"
      ],
      "text/plain": [
       "   CUSTOMER_MILES   WEIGHT  Days IS_HAZARDOUS EQUIPMENT_TYPE FIRST_PICK_ZIP  \\\n",
       "0           296.0  11649.0   0.0            N              V          60421   \n",
       "1          1335.0  40256.0   1.0            N              V          76155   \n",
       "2           235.0  17884.0   0.0            N              V          62305   \n",
       "3             0.0  42000.0   1.0            N              V        H9R 5W3   \n",
       "4           852.0  12459.0   1.0            N              V          47805   \n",
       "\n",
       "  LAST_DELIVERY_ZIP  \n",
       "0             45215  \n",
       "1             21701  \n",
       "2             61832  \n",
       "3             18106  \n",
       "4             14086  "
      ]
     },
     "execution_count": 48,
     "metadata": {},
     "output_type": "execute_result"
    }
   ],
   "source": [
    "X_test.head()"
   ]
  },
  {
   "cell_type": "code",
   "execution_count": 49,
   "id": "08bb1a9f",
   "metadata": {},
   "outputs": [],
   "source": [
    "df=pd.concat([X_train, X_test], axis=0)"
   ]
  },
  {
   "cell_type": "code",
   "execution_count": 50,
   "id": "ece436af",
   "metadata": {},
   "outputs": [],
   "source": [
    "Vdata = df.reset_index(drop=True)"
   ]
  },
  {
   "cell_type": "code",
   "execution_count": 51,
   "id": "d44e558c",
   "metadata": {},
   "outputs": [
    {
     "data": {
      "text/plain": [
       "CUSTOMER_MILES       0\n",
       "WEIGHT               0\n",
       "Days                 0\n",
       "IS_HAZARDOUS         0\n",
       "EQUIPMENT_TYPE       0\n",
       "FIRST_PICK_ZIP       0\n",
       "LAST_DELIVERY_ZIP    0\n",
       "dtype: int64"
      ]
     },
     "execution_count": 51,
     "metadata": {},
     "output_type": "execute_result"
    }
   ],
   "source": [
    "Vdata.isna().sum()"
   ]
  },
  {
   "cell_type": "code",
   "execution_count": 52,
   "id": "5cb136cc",
   "metadata": {},
   "outputs": [
    {
     "data": {
      "text/html": [
       "<div>\n",
       "<style scoped>\n",
       "    .dataframe tbody tr th:only-of-type {\n",
       "        vertical-align: middle;\n",
       "    }\n",
       "\n",
       "    .dataframe tbody tr th {\n",
       "        vertical-align: top;\n",
       "    }\n",
       "\n",
       "    .dataframe thead th {\n",
       "        text-align: right;\n",
       "    }\n",
       "</style>\n",
       "<table border=\"1\" class=\"dataframe\">\n",
       "  <thead>\n",
       "    <tr style=\"text-align: right;\">\n",
       "      <th></th>\n",
       "      <th>CUSTOMER_MILES</th>\n",
       "      <th>WEIGHT</th>\n",
       "      <th>Days</th>\n",
       "      <th>IS_HAZARDOUS</th>\n",
       "      <th>EQUIPMENT_TYPE</th>\n",
       "      <th>FIRST_PICK_ZIP</th>\n",
       "      <th>LAST_DELIVERY_ZIP</th>\n",
       "    </tr>\n",
       "  </thead>\n",
       "  <tbody>\n",
       "    <tr>\n",
       "      <th>0</th>\n",
       "      <td>463.0</td>\n",
       "      <td>43902.0</td>\n",
       "      <td>1.0</td>\n",
       "      <td>N</td>\n",
       "      <td>VR</td>\n",
       "      <td>15650</td>\n",
       "      <td>06320-6411</td>\n",
       "    </tr>\n",
       "    <tr>\n",
       "      <th>1</th>\n",
       "      <td>158.0</td>\n",
       "      <td>43900.0</td>\n",
       "      <td>0.0</td>\n",
       "      <td>N</td>\n",
       "      <td>VR</td>\n",
       "      <td>54601</td>\n",
       "      <td>55413</td>\n",
       "    </tr>\n",
       "    <tr>\n",
       "      <th>2</th>\n",
       "      <td>323.0</td>\n",
       "      <td>8000.0</td>\n",
       "      <td>0.0</td>\n",
       "      <td>N</td>\n",
       "      <td>V</td>\n",
       "      <td>50010</td>\n",
       "      <td>53094</td>\n",
       "    </tr>\n",
       "    <tr>\n",
       "      <th>3</th>\n",
       "      <td>195.0</td>\n",
       "      <td>8000.0</td>\n",
       "      <td>0.0</td>\n",
       "      <td>N</td>\n",
       "      <td>V</td>\n",
       "      <td>50010</td>\n",
       "      <td>56003</td>\n",
       "    </tr>\n",
       "    <tr>\n",
       "      <th>4</th>\n",
       "      <td>118.0</td>\n",
       "      <td>20000.0</td>\n",
       "      <td>0.0</td>\n",
       "      <td>N</td>\n",
       "      <td>V</td>\n",
       "      <td>29016</td>\n",
       "      <td>29650</td>\n",
       "    </tr>\n",
       "  </tbody>\n",
       "</table>\n",
       "</div>"
      ],
      "text/plain": [
       "   CUSTOMER_MILES   WEIGHT  Days IS_HAZARDOUS EQUIPMENT_TYPE FIRST_PICK_ZIP  \\\n",
       "0           463.0  43902.0   1.0            N             VR          15650   \n",
       "1           158.0  43900.0   0.0            N             VR          54601   \n",
       "2           323.0   8000.0   0.0            N              V          50010   \n",
       "3           195.0   8000.0   0.0            N              V          50010   \n",
       "4           118.0  20000.0   0.0            N              V          29016   \n",
       "\n",
       "  LAST_DELIVERY_ZIP  \n",
       "0        06320-6411  \n",
       "1             55413  \n",
       "2             53094  \n",
       "3             56003  \n",
       "4             29650  "
      ]
     },
     "execution_count": 52,
     "metadata": {},
     "output_type": "execute_result"
    }
   ],
   "source": [
    "Vdata.head()"
   ]
  },
  {
   "cell_type": "code",
   "execution_count": 53,
   "id": "e0c44ee0",
   "metadata": {},
   "outputs": [
    {
     "data": {
      "text/html": [
       "<div>\n",
       "<style scoped>\n",
       "    .dataframe tbody tr th:only-of-type {\n",
       "        vertical-align: middle;\n",
       "    }\n",
       "\n",
       "    .dataframe tbody tr th {\n",
       "        vertical-align: top;\n",
       "    }\n",
       "\n",
       "    .dataframe thead th {\n",
       "        text-align: right;\n",
       "    }\n",
       "</style>\n",
       "<table border=\"1\" class=\"dataframe\">\n",
       "  <thead>\n",
       "    <tr style=\"text-align: right;\">\n",
       "      <th></th>\n",
       "      <th>ORDER_COST</th>\n",
       "    </tr>\n",
       "  </thead>\n",
       "  <tbody>\n",
       "    <tr>\n",
       "      <th>0</th>\n",
       "      <td>0.00</td>\n",
       "    </tr>\n",
       "    <tr>\n",
       "      <th>1</th>\n",
       "      <td>875.00</td>\n",
       "    </tr>\n",
       "    <tr>\n",
       "      <th>2</th>\n",
       "      <td>88.14</td>\n",
       "    </tr>\n",
       "    <tr>\n",
       "      <th>3</th>\n",
       "      <td>875.00</td>\n",
       "    </tr>\n",
       "    <tr>\n",
       "      <th>4</th>\n",
       "      <td>875.00</td>\n",
       "    </tr>\n",
       "  </tbody>\n",
       "</table>\n",
       "</div>"
      ],
      "text/plain": [
       "   ORDER_COST\n",
       "0        0.00\n",
       "1      875.00\n",
       "2       88.14\n",
       "3      875.00\n",
       "4      875.00"
      ]
     },
     "execution_count": 53,
     "metadata": {},
     "output_type": "execute_result"
    }
   ],
   "source": [
    "y.head()"
   ]
  },
  {
   "cell_type": "code",
   "execution_count": 54,
   "id": "544e3b6b",
   "metadata": {},
   "outputs": [],
   "source": [
    "Vdata = pd.concat([Vdata, y], axis=1)"
   ]
  },
  {
   "cell_type": "code",
   "execution_count": 55,
   "id": "b4626e02",
   "metadata": {},
   "outputs": [
    {
     "data": {
      "text/html": [
       "<div>\n",
       "<style scoped>\n",
       "    .dataframe tbody tr th:only-of-type {\n",
       "        vertical-align: middle;\n",
       "    }\n",
       "\n",
       "    .dataframe tbody tr th {\n",
       "        vertical-align: top;\n",
       "    }\n",
       "\n",
       "    .dataframe thead th {\n",
       "        text-align: right;\n",
       "    }\n",
       "</style>\n",
       "<table border=\"1\" class=\"dataframe\">\n",
       "  <thead>\n",
       "    <tr style=\"text-align: right;\">\n",
       "      <th></th>\n",
       "      <th>CUSTOMER_MILES</th>\n",
       "      <th>WEIGHT</th>\n",
       "      <th>Days</th>\n",
       "      <th>IS_HAZARDOUS</th>\n",
       "      <th>EQUIPMENT_TYPE</th>\n",
       "      <th>FIRST_PICK_ZIP</th>\n",
       "      <th>LAST_DELIVERY_ZIP</th>\n",
       "      <th>ORDER_COST</th>\n",
       "    </tr>\n",
       "  </thead>\n",
       "  <tbody>\n",
       "    <tr>\n",
       "      <th>0</th>\n",
       "      <td>463.0</td>\n",
       "      <td>43902.0</td>\n",
       "      <td>1.0</td>\n",
       "      <td>N</td>\n",
       "      <td>VR</td>\n",
       "      <td>15650</td>\n",
       "      <td>06320-6411</td>\n",
       "      <td>0.00</td>\n",
       "    </tr>\n",
       "    <tr>\n",
       "      <th>1</th>\n",
       "      <td>158.0</td>\n",
       "      <td>43900.0</td>\n",
       "      <td>0.0</td>\n",
       "      <td>N</td>\n",
       "      <td>VR</td>\n",
       "      <td>54601</td>\n",
       "      <td>55413</td>\n",
       "      <td>875.00</td>\n",
       "    </tr>\n",
       "    <tr>\n",
       "      <th>2</th>\n",
       "      <td>323.0</td>\n",
       "      <td>8000.0</td>\n",
       "      <td>0.0</td>\n",
       "      <td>N</td>\n",
       "      <td>V</td>\n",
       "      <td>50010</td>\n",
       "      <td>53094</td>\n",
       "      <td>88.14</td>\n",
       "    </tr>\n",
       "    <tr>\n",
       "      <th>3</th>\n",
       "      <td>195.0</td>\n",
       "      <td>8000.0</td>\n",
       "      <td>0.0</td>\n",
       "      <td>N</td>\n",
       "      <td>V</td>\n",
       "      <td>50010</td>\n",
       "      <td>56003</td>\n",
       "      <td>875.00</td>\n",
       "    </tr>\n",
       "    <tr>\n",
       "      <th>4</th>\n",
       "      <td>118.0</td>\n",
       "      <td>20000.0</td>\n",
       "      <td>0.0</td>\n",
       "      <td>N</td>\n",
       "      <td>V</td>\n",
       "      <td>29016</td>\n",
       "      <td>29650</td>\n",
       "      <td>875.00</td>\n",
       "    </tr>\n",
       "  </tbody>\n",
       "</table>\n",
       "</div>"
      ],
      "text/plain": [
       "   CUSTOMER_MILES   WEIGHT  Days IS_HAZARDOUS EQUIPMENT_TYPE FIRST_PICK_ZIP  \\\n",
       "0           463.0  43902.0   1.0            N             VR          15650   \n",
       "1           158.0  43900.0   0.0            N             VR          54601   \n",
       "2           323.0   8000.0   0.0            N              V          50010   \n",
       "3           195.0   8000.0   0.0            N              V          50010   \n",
       "4           118.0  20000.0   0.0            N              V          29016   \n",
       "\n",
       "  LAST_DELIVERY_ZIP  ORDER_COST  \n",
       "0        06320-6411        0.00  \n",
       "1             55413      875.00  \n",
       "2             53094       88.14  \n",
       "3             56003      875.00  \n",
       "4             29650      875.00  "
      ]
     },
     "execution_count": 55,
     "metadata": {},
     "output_type": "execute_result"
    }
   ],
   "source": [
    "Vdata.head()"
   ]
  },
  {
   "cell_type": "code",
   "execution_count": 56,
   "id": "d263316a",
   "metadata": {},
   "outputs": [
    {
     "data": {
      "text/plain": [
       "(18739, 8)"
      ]
     },
     "execution_count": 56,
     "metadata": {},
     "output_type": "execute_result"
    }
   ],
   "source": [
    "Vdata.shape"
   ]
  },
  {
   "cell_type": "code",
   "execution_count": 57,
   "id": "378b12fd",
   "metadata": {
    "scrolled": true
   },
   "outputs": [
    {
     "data": {
      "text/html": [
       "<div>\n",
       "<style scoped>\n",
       "    .dataframe tbody tr th:only-of-type {\n",
       "        vertical-align: middle;\n",
       "    }\n",
       "\n",
       "    .dataframe tbody tr th {\n",
       "        vertical-align: top;\n",
       "    }\n",
       "\n",
       "    .dataframe thead th {\n",
       "        text-align: right;\n",
       "    }\n",
       "</style>\n",
       "<table border=\"1\" class=\"dataframe\">\n",
       "  <thead>\n",
       "    <tr style=\"text-align: right;\">\n",
       "      <th></th>\n",
       "      <th>CUSTOMER_MILES</th>\n",
       "      <th>WEIGHT</th>\n",
       "      <th>Days</th>\n",
       "      <th>ORDER_COST</th>\n",
       "    </tr>\n",
       "  </thead>\n",
       "  <tbody>\n",
       "    <tr>\n",
       "      <th>count</th>\n",
       "      <td>18733.000000</td>\n",
       "      <td>18733.000000</td>\n",
       "      <td>18733.000000</td>\n",
       "      <td>18733.000000</td>\n",
       "    </tr>\n",
       "    <tr>\n",
       "      <th>mean</th>\n",
       "      <td>588.230129</td>\n",
       "      <td>25219.295254</td>\n",
       "      <td>3.077812</td>\n",
       "      <td>954.230941</td>\n",
       "    </tr>\n",
       "    <tr>\n",
       "      <th>std</th>\n",
       "      <td>512.017845</td>\n",
       "      <td>16310.085569</td>\n",
       "      <td>140.161339</td>\n",
       "      <td>938.818390</td>\n",
       "    </tr>\n",
       "    <tr>\n",
       "      <th>min</th>\n",
       "      <td>0.000000</td>\n",
       "      <td>0.000000</td>\n",
       "      <td>0.000000</td>\n",
       "      <td>0.000000</td>\n",
       "    </tr>\n",
       "    <tr>\n",
       "      <th>25%</th>\n",
       "      <td>254.000000</td>\n",
       "      <td>8000.000000</td>\n",
       "      <td>0.000000</td>\n",
       "      <td>400.000000</td>\n",
       "    </tr>\n",
       "    <tr>\n",
       "      <th>50%</th>\n",
       "      <td>436.000000</td>\n",
       "      <td>28192.000000</td>\n",
       "      <td>1.000000</td>\n",
       "      <td>700.000000</td>\n",
       "    </tr>\n",
       "    <tr>\n",
       "      <th>75%</th>\n",
       "      <td>716.000000</td>\n",
       "      <td>42000.000000</td>\n",
       "      <td>2.000000</td>\n",
       "      <td>1300.000000</td>\n",
       "    </tr>\n",
       "    <tr>\n",
       "      <th>max</th>\n",
       "      <td>3733.000000</td>\n",
       "      <td>300000.000000</td>\n",
       "      <td>13150.000000</td>\n",
       "      <td>8000.000000</td>\n",
       "    </tr>\n",
       "  </tbody>\n",
       "</table>\n",
       "</div>"
      ],
      "text/plain": [
       "       CUSTOMER_MILES         WEIGHT          Days    ORDER_COST\n",
       "count    18733.000000   18733.000000  18733.000000  18733.000000\n",
       "mean       588.230129   25219.295254      3.077812    954.230941\n",
       "std        512.017845   16310.085569    140.161339    938.818390\n",
       "min          0.000000       0.000000      0.000000      0.000000\n",
       "25%        254.000000    8000.000000      0.000000    400.000000\n",
       "50%        436.000000   28192.000000      1.000000    700.000000\n",
       "75%        716.000000   42000.000000      2.000000   1300.000000\n",
       "max       3733.000000  300000.000000  13150.000000   8000.000000"
      ]
     },
     "execution_count": 57,
     "metadata": {},
     "output_type": "execute_result"
    }
   ],
   "source": [
    "Vdata.describe()"
   ]
  },
  {
   "cell_type": "markdown",
   "id": "40e11ba1",
   "metadata": {},
   "source": [
    "# 1.How is the shipment cost distributed? "
   ]
  },
  {
   "cell_type": "code",
   "execution_count": 58,
   "id": "dcf5ed36",
   "metadata": {
    "scrolled": false
   },
   "outputs": [
    {
     "data": {
      "image/png": "[encoded data removed]",
      "text/plain": [
       "<Figure size 2160x720 with 1 Axes>"
      ]
     },
     "metadata": {
      "needs_background": "light"
     },
     "output_type": "display_data"
    }
   ],
   "source": [
    "import matplotlib.pyplot as plt\n",
    "plt.figure(figsize=(30,10))\n",
    "plt.hist(Vdata['ORDER_COST'], bins=20)\n",
    "plt.xlabel('Shipment cost')\n",
    "plt.ylabel('Frequency')\n",
    "plt.show()"
   ]
  },
  {
   "cell_type": "markdown",
   "id": "91e2e2fc",
   "metadata": {},
   "source": [
    "--> from the plot we can see that most of the product order_cost is in between 0 to 1000"
   ]
  },
  {
   "cell_type": "markdown",
   "id": "265512d1",
   "metadata": {},
   "source": [
    "# 2. Does the shipment cost depend on the distance?\n"
   ]
  },
  {
   "cell_type": "code",
   "execution_count": 59,
   "id": "1d4c988b",
   "metadata": {},
   "outputs": [
    {
     "data": {
      "text/plain": [
       "(18739,)"
      ]
     },
     "execution_count": 59,
     "metadata": {},
     "output_type": "execute_result"
    }
   ],
   "source": [
    "Vdata['ORDER_COST'].shape"
   ]
  },
  {
   "cell_type": "code",
   "execution_count": 60,
   "id": "d7136895",
   "metadata": {},
   "outputs": [
    {
     "data": {
      "text/plain": [
       "(18739,)"
      ]
     },
     "execution_count": 60,
     "metadata": {},
     "output_type": "execute_result"
    }
   ],
   "source": [
    "Vdata['CUSTOMER_MILES'].shape"
   ]
  },
  {
   "cell_type": "code",
   "execution_count": 61,
   "id": "cf1a048d",
   "metadata": {},
   "outputs": [
    {
     "data": {
      "image/png": "[encoded data removed]",
      "text/plain": [
       "<Figure size 2160x720 with 1 Axes>"
      ]
     },
     "metadata": {
      "needs_background": "light"
     },
     "output_type": "display_data"
    }
   ],
   "source": [
    "import matplotlib.pyplot as plt\n",
    "plt.figure(figsize=(30,10))\n",
    "plt.scatter(Vdata['CUSTOMER_MILES'], Vdata['ORDER_COST'])\n",
    "plt.xlabel('Distance (miles)')\n",
    "plt.ylabel('Shipment cost')\n",
    "plt.show()"
   ]
  },
  {
   "cell_type": "markdown",
   "id": "f0410ef7",
   "metadata": {},
   "source": [
    "-->the shipment cost is not always depends on the distance but it may depends on the product and distance."
   ]
  },
  {
   "cell_type": "markdown",
   "id": "f0f3cd75",
   "metadata": {},
   "source": [
    "# 3. Is the weight of the shipment an important predictor to decide the shipment cost?"
   ]
  },
  {
   "cell_type": "code",
   "execution_count": 62,
   "id": "00ed36c5",
   "metadata": {
    "scrolled": true
   },
   "outputs": [
    {
     "data": {
      "image/png": "[encoded data removed]",
      "text/plain": [
       "<Figure size 2160x720 with 1 Axes>"
      ]
     },
     "metadata": {
      "needs_background": "light"
     },
     "output_type": "display_data"
    }
   ],
   "source": [
    "import matplotlib.pyplot as plt\n",
    "plt.figure(figsize=(30,10))\n",
    "plt.scatter(Vdata['WEIGHT'], Vdata['ORDER_COST'])\n",
    "plt.xlabel('Weight')\n",
    "plt.ylabel('Shipment cost')\n",
    "plt.show()"
   ]
  },
  {
   "cell_type": "markdown",
   "id": "47450000",
   "metadata": {},
   "source": [
    "-->according to the plot the shipment cost is not always depends on weight of the product \n",
    "   or everytime weight of the product will not impact on shipmentcost."
   ]
  },
  {
   "cell_type": "markdown",
   "id": "60dd6c1c",
   "metadata": {},
   "source": [
    "# 4. Is the Shipment cost varying depending on the source and destinations? "
   ]
  },
  {
   "cell_type": "code",
   "execution_count": 63,
   "id": "37bd6fc7",
   "metadata": {
    "scrolled": true
   },
   "outputs": [
    {
     "data": {
      "image/png": "[encoded data removed]",
      "text/plain": [
       "<Figure size 864x576 with 2 Axes>"
      ]
     },
     "metadata": {
      "needs_background": "light"
     },
     "output_type": "display_data"
    }
   ],
   "source": [
    "import seaborn as sns\n",
    "\n",
    "# Pivot table of mean shipment cost by source and destination cities\n",
    "table = Vdata.pivot_table(values='ORDER_COST', index='FIRST_PICK_ZIP', columns='LAST_DELIVERY_ZIP', aggfunc='mean')\n",
    "\n",
    "# Create heatmap\n",
    "plt.figure(figsize=(12, 8))\n",
    "sns.heatmap(table, cmap='YlGnBu')\n",
    "plt.title('Mean Shipment Cost by Source and Destination Cities')\n",
    "plt.xlabel('Destination City ')\n",
    "plt.ylabel('Source City ')\n",
    "plt.show()"
   ]
  },
  {
   "cell_type": "markdown",
   "id": "e810324c",
   "metadata": {},
   "source": [
    "-->it is same like distance and also based on place,the shipment cost is not always depends on the distance but it may depends on the product and place or distance."
   ]
  },
  {
   "cell_type": "markdown",
   "id": "44fbe54a",
   "metadata": {},
   "source": [
    "# 5. How do you justify whether the cost varies depending on the whether the item is hazardous or not"
   ]
  },
  {
   "cell_type": "code",
   "execution_count": 64,
   "id": "698376e3",
   "metadata": {
    "scrolled": true
   },
   "outputs": [
    {
     "name": "stdout",
     "output_type": "stream",
     "text": [
      "t-statistic: -1.4959620333685508\n",
      "p-value: 0.13468040250356006\n"
     ]
    }
   ],
   "source": [
    "from scipy.stats import ttest_ind\n",
    "\n",
    "hazardous = Vdata[Vdata['IS_HAZARDOUS'] == 'Y']['ORDER_COST'].dropna()\n",
    "non_hazardous = Vdata[Vdata['IS_HAZARDOUS'] == 'N']['ORDER_COST'].dropna()\n",
    "\n",
    "t_stat, p_val = ttest_ind(hazardous, non_hazardous)\n",
    "print('t-statistic:', t_stat)\n",
    "print('p-value:', p_val)"
   ]
  },
  {
   "cell_type": "code",
   "execution_count": 65,
   "id": "688e7d76",
   "metadata": {},
   "outputs": [],
   "source": [
    "from sklearn.preprocessing import StandardScaler, OneHotEncoder"
   ]
  },
  {
   "cell_type": "code",
   "execution_count": 66,
   "id": "b2e31de0",
   "metadata": {},
   "outputs": [
    {
     "data": {
      "text/plain": [
       "IS_HAZARDOUS         object\n",
       "EQUIPMENT_TYPE       object\n",
       "FIRST_PICK_ZIP       object\n",
       "LAST_DELIVERY_ZIP    object\n",
       "dtype: object"
      ]
     },
     "execution_count": 66,
     "metadata": {},
     "output_type": "execute_result"
    }
   ],
   "source": [
    "X_test[cat_cols].dtypes"
   ]
  },
  {
   "cell_type": "markdown",
   "id": "3db29094",
   "metadata": {},
   "source": [
    "# Standardizing for numerical data"
   ]
  },
  {
   "cell_type": "code",
   "execution_count": 67,
   "id": "c59255af",
   "metadata": {},
   "outputs": [],
   "source": [
    "std = StandardScaler()"
   ]
  },
  {
   "cell_type": "code",
   "execution_count": 68,
   "id": "e5424b1d",
   "metadata": {},
   "outputs": [],
   "source": [
    "\n",
    "x_train_num = pd.DataFrame(std.fit_transform(X_train[num_cols]), columns=X_train[num_cols].columns)\n",
    "x_test_num = pd.DataFrame(std.transform(X_test[num_cols]), columns=X_test[num_cols].columns)"
   ]
  },
  {
   "cell_type": "code",
   "execution_count": 69,
   "id": "e9fc7f50",
   "metadata": {},
   "outputs": [
    {
     "data": {
      "text/html": [
       "<div>\n",
       "<style scoped>\n",
       "    .dataframe tbody tr th:only-of-type {\n",
       "        vertical-align: middle;\n",
       "    }\n",
       "\n",
       "    .dataframe tbody tr th {\n",
       "        vertical-align: top;\n",
       "    }\n",
       "\n",
       "    .dataframe thead th {\n",
       "        text-align: right;\n",
       "    }\n",
       "</style>\n",
       "<table border=\"1\" class=\"dataframe\">\n",
       "  <thead>\n",
       "    <tr style=\"text-align: right;\">\n",
       "      <th></th>\n",
       "      <th>CUSTOMER_MILES</th>\n",
       "      <th>WEIGHT</th>\n",
       "      <th>Days</th>\n",
       "    </tr>\n",
       "  </thead>\n",
       "  <tbody>\n",
       "    <tr>\n",
       "      <th>0</th>\n",
       "      <td>-0.241620</td>\n",
       "      <td>1.145271</td>\n",
       "      <td>-0.015334</td>\n",
       "    </tr>\n",
       "    <tr>\n",
       "      <th>1</th>\n",
       "      <td>-0.834760</td>\n",
       "      <td>1.145149</td>\n",
       "      <td>-0.023534</td>\n",
       "    </tr>\n",
       "    <tr>\n",
       "      <th>2</th>\n",
       "      <td>-0.513881</td>\n",
       "      <td>-1.056711</td>\n",
       "      <td>-0.023534</td>\n",
       "    </tr>\n",
       "    <tr>\n",
       "      <th>3</th>\n",
       "      <td>-0.762805</td>\n",
       "      <td>-1.056711</td>\n",
       "      <td>-0.023534</td>\n",
       "    </tr>\n",
       "    <tr>\n",
       "      <th>4</th>\n",
       "      <td>-0.912549</td>\n",
       "      <td>-0.320713</td>\n",
       "      <td>-0.023534</td>\n",
       "    </tr>\n",
       "  </tbody>\n",
       "</table>\n",
       "</div>"
      ],
      "text/plain": [
       "   CUSTOMER_MILES    WEIGHT      Days\n",
       "0       -0.241620  1.145271 -0.015334\n",
       "1       -0.834760  1.145149 -0.023534\n",
       "2       -0.513881 -1.056711 -0.023534\n",
       "3       -0.762805 -1.056711 -0.023534\n",
       "4       -0.912549 -0.320713 -0.023534"
      ]
     },
     "execution_count": 69,
     "metadata": {},
     "output_type": "execute_result"
    }
   ],
   "source": [
    "x_train_num.head()"
   ]
  },
  {
   "cell_type": "markdown",
   "id": "9b4d55f7",
   "metadata": {},
   "source": [
    "# One hot encoding for categorical values"
   ]
  },
  {
   "cell_type": "code",
   "execution_count": 70,
   "id": "b5fde7f3",
   "metadata": {},
   "outputs": [],
   "source": [
    "ohe = OneHotEncoder(handle_unknown=\"ignore\",drop=None)"
   ]
  },
  {
   "cell_type": "code",
   "execution_count": 71,
   "id": "d7e1d52c",
   "metadata": {},
   "outputs": [
    {
     "data": {
      "text/plain": [
       "IS_HAZARDOUS         object\n",
       "EQUIPMENT_TYPE       object\n",
       "FIRST_PICK_ZIP       object\n",
       "LAST_DELIVERY_ZIP    object\n",
       "dtype: object"
      ]
     },
     "execution_count": 71,
     "metadata": {},
     "output_type": "execute_result"
    }
   ],
   "source": [
    "X_train[cat_cols].dtypes\n",
    "X_test[cat_cols].dtypes"
   ]
  },
  {
   "cell_type": "code",
   "execution_count": 72,
   "id": "8eeb7dec",
   "metadata": {
    "scrolled": true
   },
   "outputs": [
    {
     "data": {
      "text/plain": [
       "(5620, 4)"
      ]
     },
     "execution_count": 72,
     "metadata": {},
     "output_type": "execute_result"
    }
   ],
   "source": [
    "m=X_test[cat_cols]\n",
    "k=X_train[cat_cols]\n",
    "m=m.astype(str)\n",
    "k=k.astype(str)\n",
    "m.shape\n"
   ]
  },
  {
   "cell_type": "code",
   "execution_count": 73,
   "id": "71041773",
   "metadata": {},
   "outputs": [
    {
     "data": {
      "text/plain": [
       "(13113, 4)"
      ]
     },
     "execution_count": 73,
     "metadata": {},
     "output_type": "execute_result"
    }
   ],
   "source": [
    "k.shape"
   ]
  },
  {
   "cell_type": "code",
   "execution_count": 74,
   "id": "6c6d71bf",
   "metadata": {},
   "outputs": [
    {
     "name": "stdout",
     "output_type": "stream",
     "text": [
      "(13113, 2381)\n",
      "(5620, 2381)\n"
     ]
    }
   ],
   "source": [
    "x_train_cat = pd.DataFrame(ohe.fit_transform(k).todense(), columns=ohe.get_feature_names_out())\n",
    "x_test_cat = pd.DataFrame(ohe.transform(m).todense(), columns=ohe.get_feature_names_out())\n",
    "print(x_train_cat.shape)\n",
    "print(x_test_cat.shape)"
   ]
  },
  {
   "cell_type": "code",
   "execution_count": 75,
   "id": "cab341b5",
   "metadata": {},
   "outputs": [],
   "source": [
    "Train = pd.concat([x_train_num, x_train_cat], axis=1)"
   ]
  },
  {
   "cell_type": "code",
   "execution_count": 76,
   "id": "e5cc3969",
   "metadata": {},
   "outputs": [],
   "source": [
    "Test = pd.concat([x_test_num, x_test_cat], axis=1)"
   ]
  },
  {
   "cell_type": "code",
   "execution_count": 77,
   "id": "20667c4c",
   "metadata": {},
   "outputs": [
    {
     "data": {
      "text/html": [
       "<div>\n",
       "<style scoped>\n",
       "    .dataframe tbody tr th:only-of-type {\n",
       "        vertical-align: middle;\n",
       "    }\n",
       "\n",
       "    .dataframe tbody tr th {\n",
       "        vertical-align: top;\n",
       "    }\n",
       "\n",
       "    .dataframe thead th {\n",
       "        text-align: right;\n",
       "    }\n",
       "</style>\n",
       "<table border=\"1\" class=\"dataframe\">\n",
       "  <thead>\n",
       "    <tr style=\"text-align: right;\">\n",
       "      <th></th>\n",
       "      <th>CUSTOMER_MILES</th>\n",
       "      <th>WEIGHT</th>\n",
       "      <th>Days</th>\n",
       "      <th>IS_HAZARDOUS_N</th>\n",
       "      <th>IS_HAZARDOUS_Y</th>\n",
       "      <th>EQUIPMENT_TYPE_53 FLATBED</th>\n",
       "      <th>EQUIPMENT_TYPE_D-LTL</th>\n",
       "      <th>EQUIPMENT_TYPE_DRAY</th>\n",
       "      <th>EQUIPMENT_TYPE_DROP</th>\n",
       "      <th>EQUIPMENT_TYPE_F</th>\n",
       "      <th>...</th>\n",
       "      <th>LAST_DELIVERY_ZIP_N1H6H9</th>\n",
       "      <th>LAST_DELIVERY_ZIP_R3C2E6</th>\n",
       "      <th>LAST_DELIVERY_ZIP_T2C4T6</th>\n",
       "      <th>LAST_DELIVERY_ZIP_V0X 1L0</th>\n",
       "      <th>LAST_DELIVERY_ZIP_V3M6E7</th>\n",
       "      <th>LAST_DELIVERY_ZIP_V3R 7A2</th>\n",
       "      <th>LAST_DELIVERY_ZIP_V3V4G1</th>\n",
       "      <th>LAST_DELIVERY_ZIP_V4G 1L1</th>\n",
       "      <th>LAST_DELIVERY_ZIP_V4W3Z1</th>\n",
       "      <th>LAST_DELIVERY_ZIP_V5P 2S8</th>\n",
       "    </tr>\n",
       "  </thead>\n",
       "  <tbody>\n",
       "    <tr>\n",
       "      <th>0</th>\n",
       "      <td>-0.241620</td>\n",
       "      <td>1.145271</td>\n",
       "      <td>-0.015334</td>\n",
       "      <td>1.0</td>\n",
       "      <td>0.0</td>\n",
       "      <td>0.0</td>\n",
       "      <td>0.0</td>\n",
       "      <td>0.0</td>\n",
       "      <td>0.0</td>\n",
       "      <td>0.0</td>\n",
       "      <td>...</td>\n",
       "      <td>0.0</td>\n",
       "      <td>0.0</td>\n",
       "      <td>0.0</td>\n",
       "      <td>0.0</td>\n",
       "      <td>0.0</td>\n",
       "      <td>0.0</td>\n",
       "      <td>0.0</td>\n",
       "      <td>0.0</td>\n",
       "      <td>0.0</td>\n",
       "      <td>0.0</td>\n",
       "    </tr>\n",
       "    <tr>\n",
       "      <th>1</th>\n",
       "      <td>-0.834760</td>\n",
       "      <td>1.145149</td>\n",
       "      <td>-0.023534</td>\n",
       "      <td>1.0</td>\n",
       "      <td>0.0</td>\n",
       "      <td>0.0</td>\n",
       "      <td>0.0</td>\n",
       "      <td>0.0</td>\n",
       "      <td>0.0</td>\n",
       "      <td>0.0</td>\n",
       "      <td>...</td>\n",
       "      <td>0.0</td>\n",
       "      <td>0.0</td>\n",
       "      <td>0.0</td>\n",
       "      <td>0.0</td>\n",
       "      <td>0.0</td>\n",
       "      <td>0.0</td>\n",
       "      <td>0.0</td>\n",
       "      <td>0.0</td>\n",
       "      <td>0.0</td>\n",
       "      <td>0.0</td>\n",
       "    </tr>\n",
       "    <tr>\n",
       "      <th>2</th>\n",
       "      <td>-0.513881</td>\n",
       "      <td>-1.056711</td>\n",
       "      <td>-0.023534</td>\n",
       "      <td>1.0</td>\n",
       "      <td>0.0</td>\n",
       "      <td>0.0</td>\n",
       "      <td>0.0</td>\n",
       "      <td>0.0</td>\n",
       "      <td>0.0</td>\n",
       "      <td>0.0</td>\n",
       "      <td>...</td>\n",
       "      <td>0.0</td>\n",
       "      <td>0.0</td>\n",
       "      <td>0.0</td>\n",
       "      <td>0.0</td>\n",
       "      <td>0.0</td>\n",
       "      <td>0.0</td>\n",
       "      <td>0.0</td>\n",
       "      <td>0.0</td>\n",
       "      <td>0.0</td>\n",
       "      <td>0.0</td>\n",
       "    </tr>\n",
       "    <tr>\n",
       "      <th>3</th>\n",
       "      <td>-0.762805</td>\n",
       "      <td>-1.056711</td>\n",
       "      <td>-0.023534</td>\n",
       "      <td>1.0</td>\n",
       "      <td>0.0</td>\n",
       "      <td>0.0</td>\n",
       "      <td>0.0</td>\n",
       "      <td>0.0</td>\n",
       "      <td>0.0</td>\n",
       "      <td>0.0</td>\n",
       "      <td>...</td>\n",
       "      <td>0.0</td>\n",
       "      <td>0.0</td>\n",
       "      <td>0.0</td>\n",
       "      <td>0.0</td>\n",
       "      <td>0.0</td>\n",
       "      <td>0.0</td>\n",
       "      <td>0.0</td>\n",
       "      <td>0.0</td>\n",
       "      <td>0.0</td>\n",
       "      <td>0.0</td>\n",
       "    </tr>\n",
       "    <tr>\n",
       "      <th>4</th>\n",
       "      <td>-0.912549</td>\n",
       "      <td>-0.320713</td>\n",
       "      <td>-0.023534</td>\n",
       "      <td>1.0</td>\n",
       "      <td>0.0</td>\n",
       "      <td>0.0</td>\n",
       "      <td>0.0</td>\n",
       "      <td>0.0</td>\n",
       "      <td>0.0</td>\n",
       "      <td>0.0</td>\n",
       "      <td>...</td>\n",
       "      <td>0.0</td>\n",
       "      <td>0.0</td>\n",
       "      <td>0.0</td>\n",
       "      <td>0.0</td>\n",
       "      <td>0.0</td>\n",
       "      <td>0.0</td>\n",
       "      <td>0.0</td>\n",
       "      <td>0.0</td>\n",
       "      <td>0.0</td>\n",
       "      <td>0.0</td>\n",
       "    </tr>\n",
       "  </tbody>\n",
       "</table>\n",
       "<p>5 rows × 2384 columns</p>\n",
       "</div>"
      ],
      "text/plain": [
       "   CUSTOMER_MILES    WEIGHT      Days  IS_HAZARDOUS_N  IS_HAZARDOUS_Y  \\\n",
       "0       -0.241620  1.145271 -0.015334             1.0             0.0   \n",
       "1       -0.834760  1.145149 -0.023534             1.0             0.0   \n",
       "2       -0.513881 -1.056711 -0.023534             1.0             0.0   \n",
       "3       -0.762805 -1.056711 -0.023534             1.0             0.0   \n",
       "4       -0.912549 -0.320713 -0.023534             1.0             0.0   \n",
       "\n",
       "   EQUIPMENT_TYPE_53 FLATBED  EQUIPMENT_TYPE_D-LTL  EQUIPMENT_TYPE_DRAY  \\\n",
       "0                        0.0                   0.0                  0.0   \n",
       "1                        0.0                   0.0                  0.0   \n",
       "2                        0.0                   0.0                  0.0   \n",
       "3                        0.0                   0.0                  0.0   \n",
       "4                        0.0                   0.0                  0.0   \n",
       "\n",
       "   EQUIPMENT_TYPE_DROP  EQUIPMENT_TYPE_F  ...  LAST_DELIVERY_ZIP_N1H6H9  \\\n",
       "0                  0.0               0.0  ...                       0.0   \n",
       "1                  0.0               0.0  ...                       0.0   \n",
       "2                  0.0               0.0  ...                       0.0   \n",
       "3                  0.0               0.0  ...                       0.0   \n",
       "4                  0.0               0.0  ...                       0.0   \n",
       "\n",
       "   LAST_DELIVERY_ZIP_R3C2E6  LAST_DELIVERY_ZIP_T2C4T6  \\\n",
       "0                       0.0                       0.0   \n",
       "1                       0.0                       0.0   \n",
       "2                       0.0                       0.0   \n",
       "3                       0.0                       0.0   \n",
       "4                       0.0                       0.0   \n",
       "\n",
       "   LAST_DELIVERY_ZIP_V0X 1L0  LAST_DELIVERY_ZIP_V3M6E7  \\\n",
       "0                        0.0                       0.0   \n",
       "1                        0.0                       0.0   \n",
       "2                        0.0                       0.0   \n",
       "3                        0.0                       0.0   \n",
       "4                        0.0                       0.0   \n",
       "\n",
       "   LAST_DELIVERY_ZIP_V3R 7A2  LAST_DELIVERY_ZIP_V3V4G1  \\\n",
       "0                        0.0                       0.0   \n",
       "1                        0.0                       0.0   \n",
       "2                        0.0                       0.0   \n",
       "3                        0.0                       0.0   \n",
       "4                        0.0                       0.0   \n",
       "\n",
       "   LAST_DELIVERY_ZIP_V4G 1L1  LAST_DELIVERY_ZIP_V4W3Z1  \\\n",
       "0                        0.0                       0.0   \n",
       "1                        0.0                       0.0   \n",
       "2                        0.0                       0.0   \n",
       "3                        0.0                       0.0   \n",
       "4                        0.0                       0.0   \n",
       "\n",
       "   LAST_DELIVERY_ZIP_V5P 2S8  \n",
       "0                        0.0  \n",
       "1                        0.0  \n",
       "2                        0.0  \n",
       "3                        0.0  \n",
       "4                        0.0  \n",
       "\n",
       "[5 rows x 2384 columns]"
      ]
     },
     "execution_count": 77,
     "metadata": {},
     "output_type": "execute_result"
    }
   ],
   "source": [
    "Train.head()"
   ]
  },
  {
   "cell_type": "code",
   "execution_count": 78,
   "id": "20bc88f9",
   "metadata": {},
   "outputs": [
    {
     "data": {
      "text/plain": [
       "(13113, 2384)"
      ]
     },
     "execution_count": 78,
     "metadata": {},
     "output_type": "execute_result"
    }
   ],
   "source": [
    "Train.shape"
   ]
  },
  {
   "cell_type": "code",
   "execution_count": 79,
   "id": "e9f79dae",
   "metadata": {
    "scrolled": true
   },
   "outputs": [
    {
     "data": {
      "text/plain": [
       "(5620, 2384)"
      ]
     },
     "execution_count": 79,
     "metadata": {},
     "output_type": "execute_result"
    }
   ],
   "source": [
    "Test.shape"
   ]
  },
  {
   "cell_type": "markdown",
   "id": "7848447c",
   "metadata": {},
   "source": [
    "# 1. Descion tree"
   ]
  },
  {
   "cell_type": "code",
   "execution_count": 80,
   "id": "9b8c29b0",
   "metadata": {},
   "outputs": [],
   "source": [
    "from sklearn.tree import DecisionTreeRegressor\n",
    "dtclf = DecisionTreeRegressor(max_depth=8,criterion='squared_error',splitter='best')"
   ]
  },
  {
   "cell_type": "code",
   "execution_count": 81,
   "id": "2ffcb886",
   "metadata": {},
   "outputs": [
    {
     "data": {
      "text/html": [
       "<style>#sk-container-id-3 {color: black;background-color: white;}#sk-container-id-3 pre{padding: 0;}#sk-container-id-3 div.sk-toggleable {background-color: white;}#sk-container-id-3 label.sk-toggleable__label {cursor: pointer;display: block;width: 100%;margin-bottom: 0;padding: 0.3em;box-sizing: border-box;text-align: center;}#sk-container-id-3 label.sk-toggleable__label-arrow:before {content: \"▸\";float: left;margin-right: 0.25em;color: #696969;}#sk-container-id-3 label.sk-toggleable__label-arrow:hover:before {color: black;}#sk-container-id-3 div.sk-estimator:hover label.sk-toggleable__label-arrow:before {color: black;}#sk-container-id-3 div.sk-toggleable__content {max-height: 0;max-width: 0;overflow: hidden;text-align: left;background-color: #f0f8ff;}#sk-container-id-3 div.sk-toggleable__content pre {margin: 0.2em;color: black;border-radius: 0.25em;background-color: #f0f8ff;}#sk-container-id-3 input.sk-toggleable__control:checked~div.sk-toggleable__content {max-height: 200px;max-width: 100%;overflow: auto;}#sk-container-id-3 input.sk-toggleable__control:checked~label.sk-toggleable__label-arrow:before {content: \"▾\";}#sk-container-id-3 div.sk-estimator input.sk-toggleable__control:checked~label.sk-toggleable__label {background-color: #d4ebff;}#sk-container-id-3 div.sk-label input.sk-toggleable__control:checked~label.sk-toggleable__label {background-color: #d4ebff;}#sk-container-id-3 input.sk-hidden--visually {border: 0;clip: rect(1px 1px 1px 1px);clip: rect(1px, 1px, 1px, 1px);height: 1px;margin: -1px;overflow: hidden;padding: 0;position: absolute;width: 1px;}#sk-container-id-3 div.sk-estimator {font-family: monospace;background-color: #f0f8ff;border: 1px dotted black;border-radius: 0.25em;box-sizing: border-box;margin-bottom: 0.5em;}#sk-container-id-3 div.sk-estimator:hover {background-color: #d4ebff;}#sk-container-id-3 div.sk-parallel-item::after {content: \"\";width: 100%;border-bottom: 1px solid gray;flex-grow: 1;}#sk-container-id-3 div.sk-label:hover label.sk-toggleable__label {background-color: #d4ebff;}#sk-container-id-3 div.sk-serial::before {content: \"\";position: absolute;border-left: 1px solid gray;box-sizing: border-box;top: 0;bottom: 0;left: 50%;z-index: 0;}#sk-container-id-3 div.sk-serial {display: flex;flex-direction: column;align-items: center;background-color: white;padding-right: 0.2em;padding-left: 0.2em;position: relative;}#sk-container-id-3 div.sk-item {position: relative;z-index: 1;}#sk-container-id-3 div.sk-parallel {display: flex;align-items: stretch;justify-content: center;background-color: white;position: relative;}#sk-container-id-3 div.sk-item::before, #sk-container-id-3 div.sk-parallel-item::before {content: \"\";position: absolute;border-left: 1px solid gray;box-sizing: border-box;top: 0;bottom: 0;left: 50%;z-index: -1;}#sk-container-id-3 div.sk-parallel-item {display: flex;flex-direction: column;z-index: 1;position: relative;background-color: white;}#sk-container-id-3 div.sk-parallel-item:first-child::after {align-self: flex-end;width: 50%;}#sk-container-id-3 div.sk-parallel-item:last-child::after {align-self: flex-start;width: 50%;}#sk-container-id-3 div.sk-parallel-item:only-child::after {width: 0;}#sk-container-id-3 div.sk-dashed-wrapped {border: 1px dashed gray;margin: 0 0.4em 0.5em 0.4em;box-sizing: border-box;padding-bottom: 0.4em;background-color: white;}#sk-container-id-3 div.sk-label label {font-family: monospace;font-weight: bold;display: inline-block;line-height: 1.2em;}#sk-container-id-3 div.sk-label-container {text-align: center;}#sk-container-id-3 div.sk-container {/* jupyter's `normalize.less` sets `[hidden] { display: none; }` but bootstrap.min.css set `[hidden] { display: none !important; }` so we also need the `!important` here to be able to override the default hidden behavior on the sphinx rendered scikit-learn.org. See: https://github.com/scikit-learn/scikit-learn/issues/21755 */display: inline-block !important;position: relative;}#sk-container-id-3 div.sk-text-repr-fallback {display: none;}</style><div id=\"sk-container-id-3\" class=\"sk-top-container\"><div class=\"sk-text-repr-fallback\"><pre>DecisionTreeRegressor(max_depth=8)</pre><b>In a Jupyter environment, please rerun this cell to show the HTML representation or trust the notebook. <br />On GitHub, the HTML representation is unable to render, please try loading this page with nbviewer.org.</b></div><div class=\"sk-container\" hidden><div class=\"sk-item\"><div class=\"sk-estimator sk-toggleable\"><input class=\"sk-toggleable__control sk-hidden--visually\" id=\"sk-estimator-id-3\" type=\"checkbox\" checked><label for=\"sk-estimator-id-3\" class=\"sk-toggleable__label sk-toggleable__label-arrow\">DecisionTreeRegressor</label><div class=\"sk-toggleable__content\"><pre>DecisionTreeRegressor(max_depth=8)</pre></div></div></div></div></div>"
      ],
      "text/plain": [
       "DecisionTreeRegressor(max_depth=8)"
      ]
     },
     "execution_count": 81,
     "metadata": {},
     "output_type": "execute_result"
    }
   ],
   "source": [
    "dtclf.fit(Train, y_train)"
   ]
  },
  {
   "cell_type": "code",
   "execution_count": 82,
   "id": "a55ebc1e",
   "metadata": {},
   "outputs": [],
   "source": [
    "pred_train_dt = dtclf.predict(Train)\n",
    "pred_validation_dt = dtclf.predict(Test)"
   ]
  },
  {
   "cell_type": "code",
   "execution_count": 83,
   "id": "6233c6e7",
   "metadata": {},
   "outputs": [],
   "source": [
    "from sklearn.metrics import mean_squared_error, r2_score"
   ]
  },
  {
   "cell_type": "code",
   "execution_count": 84,
   "id": "b0d1f8d0",
   "metadata": {},
   "outputs": [],
   "source": [
    "Tr_DR_mse = round(mean_squared_error(y_train,pred_train_dt,squared= False),2)\n",
    "Tr_DR_r2 = round(r2_score(y_train, pred_train_dt),2)"
   ]
  },
  {
   "cell_type": "code",
   "execution_count": 85,
   "id": "4cd627a9",
   "metadata": {},
   "outputs": [
    {
     "name": "stdout",
     "output_type": "stream",
     "text": [
      "457.51\n",
      "0.76\n"
     ]
    }
   ],
   "source": [
    "print(Tr_DR_mse)\n",
    "print(Tr_DR_r2)"
   ]
  },
  {
   "cell_type": "code",
   "execution_count": 86,
   "id": "4af53a21",
   "metadata": {},
   "outputs": [],
   "source": [
    "va_DR_mse = round(mean_squared_error(y_test,pred_validation_dt,squared= False),2)\n",
    "va_DR_r2 = round(r2_score(y_test, pred_validation_dt),2)\n"
   ]
  },
  {
   "cell_type": "code",
   "execution_count": 87,
   "id": "1ec31241",
   "metadata": {},
   "outputs": [
    {
     "name": "stdout",
     "output_type": "stream",
     "text": [
      "518.27\n",
      "0.69\n"
     ]
    }
   ],
   "source": [
    "print(va_DR_mse)\n",
    "print(va_DR_r2)"
   ]
  },
  {
   "cell_type": "markdown",
   "id": "209b6150",
   "metadata": {},
   "source": [
    "# 2. KNN"
   ]
  },
  {
   "cell_type": "code",
   "execution_count": 88,
   "id": "84db5398",
   "metadata": {},
   "outputs": [],
   "source": [
    "from sklearn.neighbors import KNeighborsRegressor"
   ]
  },
  {
   "cell_type": "code",
   "execution_count": 89,
   "id": "2ce1f369",
   "metadata": {},
   "outputs": [],
   "source": [
    "knn=KNeighborsRegressor(n_neighbors=7)"
   ]
  },
  {
   "cell_type": "code",
   "execution_count": 90,
   "id": "48c6df3c",
   "metadata": {},
   "outputs": [
    {
     "data": {
      "text/html": [
       "<style>#sk-container-id-4 {color: black;background-color: white;}#sk-container-id-4 pre{padding: 0;}#sk-container-id-4 div.sk-toggleable {background-color: white;}#sk-container-id-4 label.sk-toggleable__label {cursor: pointer;display: block;width: 100%;margin-bottom: 0;padding: 0.3em;box-sizing: border-box;text-align: center;}#sk-container-id-4 label.sk-toggleable__label-arrow:before {content: \"▸\";float: left;margin-right: 0.25em;color: #696969;}#sk-container-id-4 label.sk-toggleable__label-arrow:hover:before {color: black;}#sk-container-id-4 div.sk-estimator:hover label.sk-toggleable__label-arrow:before {color: black;}#sk-container-id-4 div.sk-toggleable__content {max-height: 0;max-width: 0;overflow: hidden;text-align: left;background-color: #f0f8ff;}#sk-container-id-4 div.sk-toggleable__content pre {margin: 0.2em;color: black;border-radius: 0.25em;background-color: #f0f8ff;}#sk-container-id-4 input.sk-toggleable__control:checked~div.sk-toggleable__content {max-height: 200px;max-width: 100%;overflow: auto;}#sk-container-id-4 input.sk-toggleable__control:checked~label.sk-toggleable__label-arrow:before {content: \"▾\";}#sk-container-id-4 div.sk-estimator input.sk-toggleable__control:checked~label.sk-toggleable__label {background-color: #d4ebff;}#sk-container-id-4 div.sk-label input.sk-toggleable__control:checked~label.sk-toggleable__label {background-color: #d4ebff;}#sk-container-id-4 input.sk-hidden--visually {border: 0;clip: rect(1px 1px 1px 1px);clip: rect(1px, 1px, 1px, 1px);height: 1px;margin: -1px;overflow: hidden;padding: 0;position: absolute;width: 1px;}#sk-container-id-4 div.sk-estimator {font-family: monospace;background-color: #f0f8ff;border: 1px dotted black;border-radius: 0.25em;box-sizing: border-box;margin-bottom: 0.5em;}#sk-container-id-4 div.sk-estimator:hover {background-color: #d4ebff;}#sk-container-id-4 div.sk-parallel-item::after {content: \"\";width: 100%;border-bottom: 1px solid gray;flex-grow: 1;}#sk-container-id-4 div.sk-label:hover label.sk-toggleable__label {background-color: #d4ebff;}#sk-container-id-4 div.sk-serial::before {content: \"\";position: absolute;border-left: 1px solid gray;box-sizing: border-box;top: 0;bottom: 0;left: 50%;z-index: 0;}#sk-container-id-4 div.sk-serial {display: flex;flex-direction: column;align-items: center;background-color: white;padding-right: 0.2em;padding-left: 0.2em;position: relative;}#sk-container-id-4 div.sk-item {position: relative;z-index: 1;}#sk-container-id-4 div.sk-parallel {display: flex;align-items: stretch;justify-content: center;background-color: white;position: relative;}#sk-container-id-4 div.sk-item::before, #sk-container-id-4 div.sk-parallel-item::before {content: \"\";position: absolute;border-left: 1px solid gray;box-sizing: border-box;top: 0;bottom: 0;left: 50%;z-index: -1;}#sk-container-id-4 div.sk-parallel-item {display: flex;flex-direction: column;z-index: 1;position: relative;background-color: white;}#sk-container-id-4 div.sk-parallel-item:first-child::after {align-self: flex-end;width: 50%;}#sk-container-id-4 div.sk-parallel-item:last-child::after {align-self: flex-start;width: 50%;}#sk-container-id-4 div.sk-parallel-item:only-child::after {width: 0;}#sk-container-id-4 div.sk-dashed-wrapped {border: 1px dashed gray;margin: 0 0.4em 0.5em 0.4em;box-sizing: border-box;padding-bottom: 0.4em;background-color: white;}#sk-container-id-4 div.sk-label label {font-family: monospace;font-weight: bold;display: inline-block;line-height: 1.2em;}#sk-container-id-4 div.sk-label-container {text-align: center;}#sk-container-id-4 div.sk-container {/* jupyter's `normalize.less` sets `[hidden] { display: none; }` but bootstrap.min.css set `[hidden] { display: none !important; }` so we also need the `!important` here to be able to override the default hidden behavior on the sphinx rendered scikit-learn.org. See: https://github.com/scikit-learn/scikit-learn/issues/21755 */display: inline-block !important;position: relative;}#sk-container-id-4 div.sk-text-repr-fallback {display: none;}</style><div id=\"sk-container-id-4\" class=\"sk-top-container\"><div class=\"sk-text-repr-fallback\"><pre>KNeighborsRegressor(n_neighbors=7)</pre><b>In a Jupyter environment, please rerun this cell to show the HTML representation or trust the notebook. <br />On GitHub, the HTML representation is unable to render, please try loading this page with nbviewer.org.</b></div><div class=\"sk-container\" hidden><div class=\"sk-item\"><div class=\"sk-estimator sk-toggleable\"><input class=\"sk-toggleable__control sk-hidden--visually\" id=\"sk-estimator-id-4\" type=\"checkbox\" checked><label for=\"sk-estimator-id-4\" class=\"sk-toggleable__label sk-toggleable__label-arrow\">KNeighborsRegressor</label><div class=\"sk-toggleable__content\"><pre>KNeighborsRegressor(n_neighbors=7)</pre></div></div></div></div></div>"
      ],
      "text/plain": [
       "KNeighborsRegressor(n_neighbors=7)"
      ]
     },
     "execution_count": 90,
     "metadata": {},
     "output_type": "execute_result"
    }
   ],
   "source": [
    "knn.fit(Train, y_train)\n"
   ]
  },
  {
   "cell_type": "code",
   "execution_count": 91,
   "id": "2919a9bd",
   "metadata": {},
   "outputs": [],
   "source": [
    "pred_train_knn = knn.predict(Train)\n",
    "pred_validation_knn = knn.predict(Test)"
   ]
  },
  {
   "cell_type": "code",
   "execution_count": 92,
   "id": "8ce98696",
   "metadata": {},
   "outputs": [],
   "source": [
    "Tr_knn_mse = round(mean_squared_error(y_train,pred_train_knn,squared= False),2)\n",
    "Tr_knn_r2 = round(r2_score(y_train, pred_train_knn),2)"
   ]
  },
  {
   "cell_type": "code",
   "execution_count": 93,
   "id": "7c87c4c5",
   "metadata": {},
   "outputs": [
    {
     "name": "stdout",
     "output_type": "stream",
     "text": [
      "413.16\n",
      "0.81\n"
     ]
    }
   ],
   "source": [
    "print(Tr_knn_mse)\n",
    "print(Tr_knn_r2)"
   ]
  },
  {
   "cell_type": "code",
   "execution_count": 94,
   "id": "98030694",
   "metadata": {},
   "outputs": [],
   "source": [
    "va_knn_mse = round(mean_squared_error(y_test,pred_validation_knn,squared= False),2)\n",
    "va_knn_r2 = round(r2_score(y_test, pred_validation_knn),2)\n"
   ]
  },
  {
   "cell_type": "code",
   "execution_count": 95,
   "id": "552ae3e5",
   "metadata": {},
   "outputs": [
    {
     "name": "stdout",
     "output_type": "stream",
     "text": [
      "482.01\n",
      "0.74\n"
     ]
    }
   ],
   "source": [
    "print(va_knn_mse)\n",
    "print(va_knn_r2)"
   ]
  },
  {
   "cell_type": "markdown",
   "id": "1d4817f8",
   "metadata": {},
   "source": [
    "# 3. Linear Regression"
   ]
  },
  {
   "cell_type": "code",
   "execution_count": 96,
   "id": "6f231816",
   "metadata": {},
   "outputs": [],
   "source": [
    "from sklearn.linear_model import LinearRegression"
   ]
  },
  {
   "cell_type": "code",
   "execution_count": 97,
   "id": "baec03a7",
   "metadata": {},
   "outputs": [],
   "source": [
    "model = LinearRegression()"
   ]
  },
  {
   "cell_type": "code",
   "execution_count": 98,
   "id": "163c941c",
   "metadata": {},
   "outputs": [
    {
     "data": {
      "text/html": [
       "<style>#sk-container-id-5 {color: black;background-color: white;}#sk-container-id-5 pre{padding: 0;}#sk-container-id-5 div.sk-toggleable {background-color: white;}#sk-container-id-5 label.sk-toggleable__label {cursor: pointer;display: block;width: 100%;margin-bottom: 0;padding: 0.3em;box-sizing: border-box;text-align: center;}#sk-container-id-5 label.sk-toggleable__label-arrow:before {content: \"▸\";float: left;margin-right: 0.25em;color: #696969;}#sk-container-id-5 label.sk-toggleable__label-arrow:hover:before {color: black;}#sk-container-id-5 div.sk-estimator:hover label.sk-toggleable__label-arrow:before {color: black;}#sk-container-id-5 div.sk-toggleable__content {max-height: 0;max-width: 0;overflow: hidden;text-align: left;background-color: #f0f8ff;}#sk-container-id-5 div.sk-toggleable__content pre {margin: 0.2em;color: black;border-radius: 0.25em;background-color: #f0f8ff;}#sk-container-id-5 input.sk-toggleable__control:checked~div.sk-toggleable__content {max-height: 200px;max-width: 100%;overflow: auto;}#sk-container-id-5 input.sk-toggleable__control:checked~label.sk-toggleable__label-arrow:before {content: \"▾\";}#sk-container-id-5 div.sk-estimator input.sk-toggleable__control:checked~label.sk-toggleable__label {background-color: #d4ebff;}#sk-container-id-5 div.sk-label input.sk-toggleable__control:checked~label.sk-toggleable__label {background-color: #d4ebff;}#sk-container-id-5 input.sk-hidden--visually {border: 0;clip: rect(1px 1px 1px 1px);clip: rect(1px, 1px, 1px, 1px);height: 1px;margin: -1px;overflow: hidden;padding: 0;position: absolute;width: 1px;}#sk-container-id-5 div.sk-estimator {font-family: monospace;background-color: #f0f8ff;border: 1px dotted black;border-radius: 0.25em;box-sizing: border-box;margin-bottom: 0.5em;}#sk-container-id-5 div.sk-estimator:hover {background-color: #d4ebff;}#sk-container-id-5 div.sk-parallel-item::after {content: \"\";width: 100%;border-bottom: 1px solid gray;flex-grow: 1;}#sk-container-id-5 div.sk-label:hover label.sk-toggleable__label {background-color: #d4ebff;}#sk-container-id-5 div.sk-serial::before {content: \"\";position: absolute;border-left: 1px solid gray;box-sizing: border-box;top: 0;bottom: 0;left: 50%;z-index: 0;}#sk-container-id-5 div.sk-serial {display: flex;flex-direction: column;align-items: center;background-color: white;padding-right: 0.2em;padding-left: 0.2em;position: relative;}#sk-container-id-5 div.sk-item {position: relative;z-index: 1;}#sk-container-id-5 div.sk-parallel {display: flex;align-items: stretch;justify-content: center;background-color: white;position: relative;}#sk-container-id-5 div.sk-item::before, #sk-container-id-5 div.sk-parallel-item::before {content: \"\";position: absolute;border-left: 1px solid gray;box-sizing: border-box;top: 0;bottom: 0;left: 50%;z-index: -1;}#sk-container-id-5 div.sk-parallel-item {display: flex;flex-direction: column;z-index: 1;position: relative;background-color: white;}#sk-container-id-5 div.sk-parallel-item:first-child::after {align-self: flex-end;width: 50%;}#sk-container-id-5 div.sk-parallel-item:last-child::after {align-self: flex-start;width: 50%;}#sk-container-id-5 div.sk-parallel-item:only-child::after {width: 0;}#sk-container-id-5 div.sk-dashed-wrapped {border: 1px dashed gray;margin: 0 0.4em 0.5em 0.4em;box-sizing: border-box;padding-bottom: 0.4em;background-color: white;}#sk-container-id-5 div.sk-label label {font-family: monospace;font-weight: bold;display: inline-block;line-height: 1.2em;}#sk-container-id-5 div.sk-label-container {text-align: center;}#sk-container-id-5 div.sk-container {/* jupyter's `normalize.less` sets `[hidden] { display: none; }` but bootstrap.min.css set `[hidden] { display: none !important; }` so we also need the `!important` here to be able to override the default hidden behavior on the sphinx rendered scikit-learn.org. See: https://github.com/scikit-learn/scikit-learn/issues/21755 */display: inline-block !important;position: relative;}#sk-container-id-5 div.sk-text-repr-fallback {display: none;}</style><div id=\"sk-container-id-5\" class=\"sk-top-container\"><div class=\"sk-text-repr-fallback\"><pre>LinearRegression()</pre><b>In a Jupyter environment, please rerun this cell to show the HTML representation or trust the notebook. <br />On GitHub, the HTML representation is unable to render, please try loading this page with nbviewer.org.</b></div><div class=\"sk-container\" hidden><div class=\"sk-item\"><div class=\"sk-estimator sk-toggleable\"><input class=\"sk-toggleable__control sk-hidden--visually\" id=\"sk-estimator-id-5\" type=\"checkbox\" checked><label for=\"sk-estimator-id-5\" class=\"sk-toggleable__label sk-toggleable__label-arrow\">LinearRegression</label><div class=\"sk-toggleable__content\"><pre>LinearRegression()</pre></div></div></div></div></div>"
      ],
      "text/plain": [
       "LinearRegression()"
      ]
     },
     "execution_count": 98,
     "metadata": {},
     "output_type": "execute_result"
    }
   ],
   "source": [
    "model.fit(Train, y_train) "
   ]
  },
  {
   "cell_type": "code",
   "execution_count": 99,
   "id": "9cb59d05",
   "metadata": {},
   "outputs": [],
   "source": [
    "pred_train_LR = model.predict(Train)\n",
    "pred_validation_LR= model.predict(Test)"
   ]
  },
  {
   "cell_type": "code",
   "execution_count": 100,
   "id": "2fdab844",
   "metadata": {},
   "outputs": [],
   "source": [
    "Tr_LR_mse = round(mean_squared_error(y_train,pred_train_LR,squared= False),2)\n",
    "Tr_LR_r2 = round(r2_score(y_train, pred_train_LR),2)"
   ]
  },
  {
   "cell_type": "code",
   "execution_count": 101,
   "id": "cec4240b",
   "metadata": {},
   "outputs": [
    {
     "name": "stdout",
     "output_type": "stream",
     "text": [
      "409.77\n",
      "0.81\n"
     ]
    }
   ],
   "source": [
    "print(Tr_LR_mse)\n",
    "print(Tr_LR_r2)"
   ]
  },
  {
   "cell_type": "code",
   "execution_count": 102,
   "id": "d4c2e4cf",
   "metadata": {},
   "outputs": [],
   "source": [
    "va_LR_mse = round(mean_squared_error(y_test,pred_validation_LR,squared= False),2)\n",
    "va_LR_r2 = round(r2_score(y_test, pred_validation_LR),2)\n"
   ]
  },
  {
   "cell_type": "code",
   "execution_count": 103,
   "id": "11287042",
   "metadata": {},
   "outputs": [
    {
     "name": "stdout",
     "output_type": "stream",
     "text": [
      "26575089213659.0\n",
      "-8.036714015715158e+20\n"
     ]
    }
   ],
   "source": [
    "print(va_LR_mse)\n",
    "print(va_LR_r2)"
   ]
  },
  {
   "cell_type": "markdown",
   "id": "12a7f41a",
   "metadata": {},
   "source": [
    "# 4. Random Forest"
   ]
  },
  {
   "cell_type": "code",
   "execution_count": 104,
   "id": "1abe4b3b",
   "metadata": {},
   "outputs": [],
   "source": [
    "from sklearn.ensemble import RandomForestRegressor\n",
    "\n",
    "model1 = RandomForestRegressor(n_estimators=30, random_state=0)\n",
    "model1.fit(Train, y_train)\n",
    "pred_train_model1 = model1.predict(Train)\n",
    "pred_validation_model1= model1.predict(Test)"
   ]
  },
  {
   "cell_type": "code",
   "execution_count": 105,
   "id": "09abbca4",
   "metadata": {},
   "outputs": [],
   "source": [
    "Tr_RF_mse = round(mean_squared_error(y_train,pred_train_model1,squared= False),2)\n",
    "Tr_RF_r2 = round(r2_score(y_train, pred_train_model1),2)"
   ]
  },
  {
   "cell_type": "code",
   "execution_count": 106,
   "id": "00f436f5",
   "metadata": {},
   "outputs": [
    {
     "name": "stdout",
     "output_type": "stream",
     "text": [
      "250.88\n",
      "0.93\n"
     ]
    }
   ],
   "source": [
    "print(Tr_RF_mse)\n",
    "print(Tr_RF_r2)"
   ]
  },
  {
   "cell_type": "code",
   "execution_count": 107,
   "id": "71c93b4b",
   "metadata": {},
   "outputs": [],
   "source": [
    "va_RF_mse = round(mean_squared_error(y_test,pred_validation_model1,squared= False),2)\n",
    "va_RF_r2 = round(r2_score(y_test, pred_validation_model1),2)"
   ]
  },
  {
   "cell_type": "code",
   "execution_count": 108,
   "id": "20faeb07",
   "metadata": {},
   "outputs": [
    {
     "name": "stdout",
     "output_type": "stream",
     "text": [
      "445.03\n",
      "0.77\n"
     ]
    }
   ],
   "source": [
    "print(va_RF_mse)\n",
    "print(va_RF_r2)"
   ]
  },
  {
   "cell_type": "markdown",
   "id": "4696234d",
   "metadata": {},
   "source": [
    "# 5.Stacking Regressor\n"
   ]
  },
  {
   "cell_type": "code",
   "execution_count": 109,
   "id": "5c6a1536",
   "metadata": {},
   "outputs": [],
   "source": [
    "from sklearn.ensemble import StackingRegressor"
   ]
  },
  {
   "cell_type": "code",
   "execution_count": 110,
   "id": "1542df62",
   "metadata": {},
   "outputs": [],
   "source": [
    "estimators=[('dtclf',dtclf),('knn=(n_neighbors=7)',knn),]"
   ]
  },
  {
   "cell_type": "code",
   "execution_count": 111,
   "id": "57e999ae",
   "metadata": {},
   "outputs": [],
   "source": [
    "stack_model = StackingRegressor( estimators = estimators,final_estimator = model)"
   ]
  },
  {
   "cell_type": "code",
   "execution_count": 112,
   "id": "b2b2fc80",
   "metadata": {},
   "outputs": [
    {
     "data": {
      "text/html": [
       "<style>#sk-container-id-6 {color: black;background-color: white;}#sk-container-id-6 pre{padding: 0;}#sk-container-id-6 div.sk-toggleable {background-color: white;}#sk-container-id-6 label.sk-toggleable__label {cursor: pointer;display: block;width: 100%;margin-bottom: 0;padding: 0.3em;box-sizing: border-box;text-align: center;}#sk-container-id-6 label.sk-toggleable__label-arrow:before {content: \"▸\";float: left;margin-right: 0.25em;color: #696969;}#sk-container-id-6 label.sk-toggleable__label-arrow:hover:before {color: black;}#sk-container-id-6 div.sk-estimator:hover label.sk-toggleable__label-arrow:before {color: black;}#sk-container-id-6 div.sk-toggleable__content {max-height: 0;max-width: 0;overflow: hidden;text-align: left;background-color: #f0f8ff;}#sk-container-id-6 div.sk-toggleable__content pre {margin: 0.2em;color: black;border-radius: 0.25em;background-color: #f0f8ff;}#sk-container-id-6 input.sk-toggleable__control:checked~div.sk-toggleable__content {max-height: 200px;max-width: 100%;overflow: auto;}#sk-container-id-6 input.sk-toggleable__control:checked~label.sk-toggleable__label-arrow:before {content: \"▾\";}#sk-container-id-6 div.sk-estimator input.sk-toggleable__control:checked~label.sk-toggleable__label {background-color: #d4ebff;}#sk-container-id-6 div.sk-label input.sk-toggleable__control:checked~label.sk-toggleable__label {background-color: #d4ebff;}#sk-container-id-6 input.sk-hidden--visually {border: 0;clip: rect(1px 1px 1px 1px);clip: rect(1px, 1px, 1px, 1px);height: 1px;margin: -1px;overflow: hidden;padding: 0;position: absolute;width: 1px;}#sk-container-id-6 div.sk-estimator {font-family: monospace;background-color: #f0f8ff;border: 1px dotted black;border-radius: 0.25em;box-sizing: border-box;margin-bottom: 0.5em;}#sk-container-id-6 div.sk-estimator:hover {background-color: #d4ebff;}#sk-container-id-6 div.sk-parallel-item::after {content: \"\";width: 100%;border-bottom: 1px solid gray;flex-grow: 1;}#sk-container-id-6 div.sk-label:hover label.sk-toggleable__label {background-color: #d4ebff;}#sk-container-id-6 div.sk-serial::before {content: \"\";position: absolute;border-left: 1px solid gray;box-sizing: border-box;top: 0;bottom: 0;left: 50%;z-index: 0;}#sk-container-id-6 div.sk-serial {display: flex;flex-direction: column;align-items: center;background-color: white;padding-right: 0.2em;padding-left: 0.2em;position: relative;}#sk-container-id-6 div.sk-item {position: relative;z-index: 1;}#sk-container-id-6 div.sk-parallel {display: flex;align-items: stretch;justify-content: center;background-color: white;position: relative;}#sk-container-id-6 div.sk-item::before, #sk-container-id-6 div.sk-parallel-item::before {content: \"\";position: absolute;border-left: 1px solid gray;box-sizing: border-box;top: 0;bottom: 0;left: 50%;z-index: -1;}#sk-container-id-6 div.sk-parallel-item {display: flex;flex-direction: column;z-index: 1;position: relative;background-color: white;}#sk-container-id-6 div.sk-parallel-item:first-child::after {align-self: flex-end;width: 50%;}#sk-container-id-6 div.sk-parallel-item:last-child::after {align-self: flex-start;width: 50%;}#sk-container-id-6 div.sk-parallel-item:only-child::after {width: 0;}#sk-container-id-6 div.sk-dashed-wrapped {border: 1px dashed gray;margin: 0 0.4em 0.5em 0.4em;box-sizing: border-box;padding-bottom: 0.4em;background-color: white;}#sk-container-id-6 div.sk-label label {font-family: monospace;font-weight: bold;display: inline-block;line-height: 1.2em;}#sk-container-id-6 div.sk-label-container {text-align: center;}#sk-container-id-6 div.sk-container {/* jupyter's `normalize.less` sets `[hidden] { display: none; }` but bootstrap.min.css set `[hidden] { display: none !important; }` so we also need the `!important` here to be able to override the default hidden behavior on the sphinx rendered scikit-learn.org. See: https://github.com/scikit-learn/scikit-learn/issues/21755 */display: inline-block !important;position: relative;}#sk-container-id-6 div.sk-text-repr-fallback {display: none;}</style><div id=\"sk-container-id-6\" class=\"sk-top-container\"><div class=\"sk-text-repr-fallback\"><pre>StackingRegressor(estimators=[(&#x27;dtclf&#x27;, DecisionTreeRegressor(max_depth=8)),\n",
       "                              (&#x27;knn=(n_neighbors=7)&#x27;,\n",
       "                               KNeighborsRegressor(n_neighbors=7))],\n",
       "                  final_estimator=LinearRegression())</pre><b>In a Jupyter environment, please rerun this cell to show the HTML representation or trust the notebook. <br />On GitHub, the HTML representation is unable to render, please try loading this page with nbviewer.org.</b></div><div class=\"sk-container\" hidden><div class=\"sk-item sk-dashed-wrapped\"><div class=\"sk-label-container\"><div class=\"sk-label sk-toggleable\"><input class=\"sk-toggleable__control sk-hidden--visually\" id=\"sk-estimator-id-6\" type=\"checkbox\" ><label for=\"sk-estimator-id-6\" class=\"sk-toggleable__label sk-toggleable__label-arrow\">StackingRegressor</label><div class=\"sk-toggleable__content\"><pre>StackingRegressor(estimators=[(&#x27;dtclf&#x27;, DecisionTreeRegressor(max_depth=8)),\n",
       "                              (&#x27;knn=(n_neighbors=7)&#x27;,\n",
       "                               KNeighborsRegressor(n_neighbors=7))],\n",
       "                  final_estimator=LinearRegression())</pre></div></div></div><div class=\"sk-serial\"><div class=\"sk-item\"><div class=\"sk-parallel\"><div class=\"sk-parallel-item\"><div class=\"sk-item\"><div class=\"sk-label-container\"><div class=\"sk-label sk-toggleable\"><label>dtclf</label></div></div><div class=\"sk-serial\"><div class=\"sk-item\"><div class=\"sk-estimator sk-toggleable\"><input class=\"sk-toggleable__control sk-hidden--visually\" id=\"sk-estimator-id-7\" type=\"checkbox\" ><label for=\"sk-estimator-id-7\" class=\"sk-toggleable__label sk-toggleable__label-arrow\">DecisionTreeRegressor</label><div class=\"sk-toggleable__content\"><pre>DecisionTreeRegressor(max_depth=8)</pre></div></div></div></div></div></div><div class=\"sk-parallel-item\"><div class=\"sk-item\"><div class=\"sk-label-container\"><div class=\"sk-label sk-toggleable\"><label>knn=(n_neighbors=7)</label></div></div><div class=\"sk-serial\"><div class=\"sk-item\"><div class=\"sk-estimator sk-toggleable\"><input class=\"sk-toggleable__control sk-hidden--visually\" id=\"sk-estimator-id-8\" type=\"checkbox\" ><label for=\"sk-estimator-id-8\" class=\"sk-toggleable__label sk-toggleable__label-arrow\">KNeighborsRegressor</label><div class=\"sk-toggleable__content\"><pre>KNeighborsRegressor(n_neighbors=7)</pre></div></div></div></div></div></div></div></div><div class=\"sk-item\"><div class=\"sk-parallel\"><div class=\"sk-parallel-item\"><div class=\"sk-item\"><div class=\"sk-label-container\"><div class=\"sk-label sk-toggleable\"><label>final_estimator</label></div></div><div class=\"sk-serial\"><div class=\"sk-item\"><div class=\"sk-estimator sk-toggleable\"><input class=\"sk-toggleable__control sk-hidden--visually\" id=\"sk-estimator-id-9\" type=\"checkbox\" ><label for=\"sk-estimator-id-9\" class=\"sk-toggleable__label sk-toggleable__label-arrow\">LinearRegression</label><div class=\"sk-toggleable__content\"><pre>LinearRegression()</pre></div></div></div></div></div></div></div></div></div></div></div></div>"
      ],
      "text/plain": [
       "StackingRegressor(estimators=[('dtclf', DecisionTreeRegressor(max_depth=8)),\n",
       "                              ('knn=(n_neighbors=7)',\n",
       "                               KNeighborsRegressor(n_neighbors=7))],\n",
       "                  final_estimator=LinearRegression())"
      ]
     },
     "execution_count": 112,
     "metadata": {},
     "output_type": "execute_result"
    }
   ],
   "source": [
    "stack_model.fit(Train,y_train)"
   ]
  },
  {
   "cell_type": "code",
   "execution_count": 113,
   "id": "78548dca",
   "metadata": {},
   "outputs": [],
   "source": [
    "trStack_pred=stack_model.predict(Train)"
   ]
  },
  {
   "cell_type": "code",
   "execution_count": 114,
   "id": "d27aaf42",
   "metadata": {},
   "outputs": [],
   "source": [
    "teStack_pred=stack_model.predict(Test)"
   ]
  },
  {
   "cell_type": "code",
   "execution_count": 115,
   "id": "64e57df4",
   "metadata": {},
   "outputs": [],
   "source": [
    "tr_ST_mse = round(mean_squared_error(y_train,trStack_pred,squared= False),2)\n",
    "tr_STr2 = round(r2_score(y_train,trStack_pred ),2)\n"
   ]
  },
  {
   "cell_type": "code",
   "execution_count": 116,
   "id": "af8bccb0",
   "metadata": {},
   "outputs": [
    {
     "name": "stdout",
     "output_type": "stream",
     "text": [
      "395.87\n",
      "0.82\n"
     ]
    }
   ],
   "source": [
    "print(tr_ST_mse)\n",
    "print(tr_STr2)"
   ]
  },
  {
   "cell_type": "code",
   "execution_count": 117,
   "id": "fd9f2575",
   "metadata": {},
   "outputs": [],
   "source": [
    "va_ST_mse =round(mean_squared_error(y_test,teStack_pred,squared= False),2)\n",
    "va_ST_r2 = round(r2_score(y_test,teStack_pred ),2)"
   ]
  },
  {
   "cell_type": "code",
   "execution_count": 118,
   "id": "31fdc381",
   "metadata": {},
   "outputs": [
    {
     "name": "stdout",
     "output_type": "stream",
     "text": [
      "464.42\n",
      "0.75\n"
     ]
    }
   ],
   "source": [
    "print(va_ST_mse)\n",
    "print(va_ST_r2)\n"
   ]
  },
  {
   "cell_type": "code",
   "execution_count": 119,
   "id": "be25e397",
   "metadata": {},
   "outputs": [],
   "source": [
    "Results=[[1,'','Decision Tree','',Tr_DR_mse,'',Tr_DR_r2,'',va_DR_mse,'',va_DR_r2],[2,'','KNN','',Tr_knn_mse,'',Tr_knn_r2,'',va_knn_mse,'',va_knn_r2],[3,'','Linear Regression','',Tr_LR_mse,'',Tr_LR_r2,'',va_LR_mse,'',va_LR_r2],[4,'','Random Forest','',Tr_RF_mse,'',Tr_RF_r2,'',va_RF_mse,'',va_RF_r2],[5,'','Stacking','',tr_ST_mse,'',tr_STr2,'',va_ST_mse,'',va_ST_r2]]"
   ]
  },
  {
   "cell_type": "code",
   "execution_count": 120,
   "id": "1c54be4e",
   "metadata": {},
   "outputs": [],
   "source": [
    "Results_data=pd.DataFrame(Results,columns=['S.NO','','Model Name','','Train_RMSE','','Train_R2','','Test_RMSE','','Test_r2'])\n",
    "\n"
   ]
  },
  {
   "cell_type": "code",
   "execution_count": 121,
   "id": "d01a1680",
   "metadata": {},
   "outputs": [],
   "source": [
    "Results_data.set_index(\"S.NO\", inplace = True)"
   ]
  },
  {
   "cell_type": "code",
   "execution_count": 122,
   "id": "a4cc4dae",
   "metadata": {},
   "outputs": [
    {
     "data": {
      "text/html": [
       "<div>\n",
       "<style scoped>\n",
       "    .dataframe tbody tr th:only-of-type {\n",
       "        vertical-align: middle;\n",
       "    }\n",
       "\n",
       "    .dataframe tbody tr th {\n",
       "        vertical-align: top;\n",
       "    }\n",
       "\n",
       "    .dataframe thead th {\n",
       "        text-align: right;\n",
       "    }\n",
       "</style>\n",
       "<table border=\"1\" class=\"dataframe\">\n",
       "  <thead>\n",
       "    <tr style=\"text-align: right;\">\n",
       "      <th></th>\n",
       "      <th></th>\n",
       "      <th>Model Name</th>\n",
       "      <th></th>\n",
       "      <th>Train_RMSE</th>\n",
       "      <th></th>\n",
       "      <th>Train_R2</th>\n",
       "      <th></th>\n",
       "      <th>Test_RMSE</th>\n",
       "      <th></th>\n",
       "      <th>Test_r2</th>\n",
       "    </tr>\n",
       "    <tr>\n",
       "      <th>S.NO</th>\n",
       "      <th></th>\n",
       "      <th></th>\n",
       "      <th></th>\n",
       "      <th></th>\n",
       "      <th></th>\n",
       "      <th></th>\n",
       "      <th></th>\n",
       "      <th></th>\n",
       "      <th></th>\n",
       "      <th></th>\n",
       "    </tr>\n",
       "  </thead>\n",
       "  <tbody>\n",
       "    <tr>\n",
       "      <th>1</th>\n",
       "      <td></td>\n",
       "      <td>Decision Tree</td>\n",
       "      <td></td>\n",
       "      <td>457.51</td>\n",
       "      <td></td>\n",
       "      <td>0.76</td>\n",
       "      <td></td>\n",
       "      <td>5.182700e+02</td>\n",
       "      <td></td>\n",
       "      <td>6.900000e-01</td>\n",
       "    </tr>\n",
       "    <tr>\n",
       "      <th>2</th>\n",
       "      <td></td>\n",
       "      <td>KNN</td>\n",
       "      <td></td>\n",
       "      <td>413.16</td>\n",
       "      <td></td>\n",
       "      <td>0.81</td>\n",
       "      <td></td>\n",
       "      <td>4.820100e+02</td>\n",
       "      <td></td>\n",
       "      <td>7.400000e-01</td>\n",
       "    </tr>\n",
       "    <tr>\n",
       "      <th>3</th>\n",
       "      <td></td>\n",
       "      <td>Linear Regression</td>\n",
       "      <td></td>\n",
       "      <td>409.77</td>\n",
       "      <td></td>\n",
       "      <td>0.81</td>\n",
       "      <td></td>\n",
       "      <td>2.657509e+13</td>\n",
       "      <td></td>\n",
       "      <td>-8.036714e+20</td>\n",
       "    </tr>\n",
       "    <tr>\n",
       "      <th>4</th>\n",
       "      <td></td>\n",
       "      <td>Random Forest</td>\n",
       "      <td></td>\n",
       "      <td>250.88</td>\n",
       "      <td></td>\n",
       "      <td>0.93</td>\n",
       "      <td></td>\n",
       "      <td>4.450300e+02</td>\n",
       "      <td></td>\n",
       "      <td>7.700000e-01</td>\n",
       "    </tr>\n",
       "    <tr>\n",
       "      <th>5</th>\n",
       "      <td></td>\n",
       "      <td>Stacking</td>\n",
       "      <td></td>\n",
       "      <td>395.87</td>\n",
       "      <td></td>\n",
       "      <td>0.82</td>\n",
       "      <td></td>\n",
       "      <td>4.644200e+02</td>\n",
       "      <td></td>\n",
       "      <td>7.500000e-01</td>\n",
       "    </tr>\n",
       "  </tbody>\n",
       "</table>\n",
       "</div>"
      ],
      "text/plain": [
       "               Model Name    Train_RMSE    Train_R2       Test_RMSE    \\\n",
       "S.NO                                                                    \n",
       "1           Decision Tree        457.51        0.76    5.182700e+02     \n",
       "2                     KNN        413.16        0.81    4.820100e+02     \n",
       "3       Linear Regression        409.77        0.81    2.657509e+13     \n",
       "4           Random Forest        250.88        0.93    4.450300e+02     \n",
       "5                Stacking        395.87        0.82    4.644200e+02     \n",
       "\n",
       "           Test_r2  \n",
       "S.NO                \n",
       "1     6.900000e-01  \n",
       "2     7.400000e-01  \n",
       "3    -8.036714e+20  \n",
       "4     7.700000e-01  \n",
       "5     7.500000e-01  "
      ]
     },
     "execution_count": 122,
     "metadata": {},
     "output_type": "execute_result"
    }
   ],
   "source": [
    "Results_data\n"
   ]
  },
  {
   "cell_type": "code",
   "execution_count": null,
   "id": "e2998135",
   "metadata": {},
   "outputs": [],
   "source": []
  }
 ],
 "metadata": {
  "kernelspec": {
   "display_name": "Python 3 (ipykernel)",
   "language": "python",
   "name": "python3"
  },
  "language_info": {
   "codemirror_mode": {
    "name": "ipython",
    "version": 3
   },
   "file_extension": ".py",
   "mimetype": "text/x-python",
   "name": "python",
   "nbconvert_exporter": "python",
   "pygments_lexer": "ipython3",
   "version": "3.9.12"
  }
 },
 "nbformat": 4,
 "nbformat_minor": 5
}
